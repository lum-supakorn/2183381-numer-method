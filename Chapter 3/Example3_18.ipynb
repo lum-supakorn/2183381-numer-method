{
 "cells": [
  {
   "cell_type": "code",
   "execution_count": 5,
   "metadata": {},
   "outputs": [],
   "source": [
    "import sympy as sym\n",
    "import numpy as np"
   ]
  },
  {
   "cell_type": "code",
   "execution_count": 6,
   "metadata": {},
   "outputs": [],
   "source": [
    "x1, x2, x3 = sym.symbols(\"x1 x2 x3\")\n",
    "\n",
    "A = sym.Matrix([\n",
    "    [4, -4, 0],\n",
    "    [-1, 4, -2],\n",
    "    [0, -2, 4]\n",
    "])\n",
    "\n",
    "b = sym.Matrix([400, 400, 400])\n",
    "\n",
    "# Obtained system of equations\n",
    "F = A * sym.Matrix([x1, x2, x3]) - b\n",
    "\n",
    "# Manipulate equations\n",
    "fx1, = sym.solve(F[0], x1)\n",
    "fx2, = sym.solve(F[1], x2)\n",
    "fx3, = sym.solve(F[2], x3)"
   ]
  },
  {
   "cell_type": "code",
   "execution_count": 7,
   "metadata": {},
   "outputs": [],
   "source": [
    "# Initial guesses\n",
    "x_val = np.asarray([100.0, 100.0, 100.0])\n",
    "\n",
    "# tolerance\n",
    "tol = 0.05"
   ]
  },
  {
   "cell_type": "code",
   "execution_count": 8,
   "metadata": {},
   "outputs": [
    {
     "name": "stdout",
     "output_type": "stream",
     "text": [
      " Iteration             x1             x2             x3\n",
      "         1       200.0000       200.0000       200.0000\n",
      "         2       300.0000       275.0000       237.5000\n",
      "         3       375.0000       312.5000       256.2500\n",
      "         4       412.5000       331.2500       265.6250\n",
      "         5       431.2500       340.6250       270.3125\n",
      "         6       440.6250       345.3125       272.6562\n",
      "         7       445.3125       347.6562       273.8281\n",
      "         8       447.6562       348.8281       274.4141\n",
      "         9       448.8281       349.4141       274.7070\n",
      "        10       449.4141       349.7070       274.8535\n",
      "        11       449.7070       349.8535       274.9268\n",
      "        12       449.8535       349.9268       274.9634\n"
     ]
    }
   ],
   "source": [
    "# Iteration\n",
    "iter_count = 0\n",
    "print(\"{:>10}{:>15}{:>15}{:>15}\".format(\"Iteration\", \"x1\", \"x2\", \"x3\"))\n",
    "while True:\n",
    "    iter_count += 1\n",
    "    x_val_old = x_val.copy()\n",
    "    x_val[0] = fx1.subs([(x2, x_val[1])])\n",
    "    x_val[1] = fx2.subs([(x1, x_val[0]), (x3, x_val[2])])\n",
    "    x_val[2] = fx3.subs([(x2, x_val[1])])\n",
    "    print(\"{:>10}{:>15.4f}{:>15.4f}{:>15.4f}\".format(iter_count, x_val[0], x_val[1], x_val[2]))\n",
    "    if np.all((np.divide(abs(x_val_old - x_val), x_val_old) * 100) < tol):\n",
    "        break"
   ]
  }
 ],
 "metadata": {
  "kernelspec": {
   "display_name": "Python 3",
   "language": "python",
   "name": "python3"
  },
  "language_info": {
   "codemirror_mode": {
    "name": "ipython",
    "version": 3
   },
   "file_extension": ".py",
   "mimetype": "text/x-python",
   "name": "python",
   "nbconvert_exporter": "python",
   "pygments_lexer": "ipython3",
   "version": "3.7.4"
  }
 },
 "nbformat": 4,
 "nbformat_minor": 4
}
