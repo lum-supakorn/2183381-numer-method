{
 "cells": [
  {
   "cell_type": "markdown",
   "metadata": {},
   "source": [
    "**Numerical Methods in Science and Engineering**  \n",
    "**Chapter:** 3  \n",
    "**Exercise:** 28  \n",
    "  \n",
    "**Author:** Supakorn Suttiruang (Lum) 6031857321  \n",
    "  "
   ]
  },
  {
   "cell_type": "markdown",
   "metadata": {},
   "source": [
    "**Problem Statement:** Solve the following system of equations,\n",
    "$$\n",
    "\\begin{bmatrix}\n",
    "17 && 1 && 4 && 3 && -1 && 2 && 3 && -7 \\\\\n",
    "2 && 10 && -1 && 1 && -2 && 1 && 1 && -4 \\\\\n",
    "-1 && 1 && -8 && 2 && -5 && 2 && -1 && 1 \\\\\n",
    "2 && 4 && 1 && -11 && 1 && 3 && 4 && -1 \\\\\n",
    "1 && 3 && 1 && 7 && -15 && 1 && -2 && 4 \\\\\n",
    "-2 && 1 && 7 && -1 && 2 && 12 && -1 && 8 \\\\\n",
    "3 && 4 && 5 && 1 && 2 && 8 && -19 && 2 \\\\\n",
    "5 && 1 && 1 && 1 && 1 && 1 && -7 && 10\n",
    "\\end{bmatrix}\n",
    "\\begin{Bmatrix}\n",
    "x_1 \\\\\n",
    "x_2 \\\\\n",
    "x_3 \\\\\n",
    "x_4 \\\\\n",
    "x_5 \\\\\n",
    "x_6 \\\\\n",
    "x_7 \\\\\n",
    "x_8\n",
    "\\end{Bmatrix}\n",
    "=\n",
    "\\begin{Bmatrix}\n",
    "71 \\\\\n",
    "43 \\\\\n",
    "-11 \\\\\n",
    "-37 \\\\\n",
    "-61 \\\\\n",
    "52 \\\\\n",
    "-73 \\\\\n",
    "21\n",
    "\\end{Bmatrix}\n",
    "$$\n",
    "by using the computer programs of:  \n",
    "(a) the Gaussian elimination method  \n",
    "(b) the LU decomposition method  \n",
    "(c) the conjugate gradient method  \n",
    "**presented here in the chapter.** Provide comments on the accuracy of the solutions obtained from the three methods."
   ]
  },
  {
   "cell_type": "markdown",
   "metadata": {},
   "source": [
    "**Derivation of Solution:**\n",
    "In this exercise, I'll be working with the given MATLAB code. The first thing I need to do is to modify the input file to match this problem.  \n",
    "![input](3.png)  \n",
    "Then the MATLAB files can be run and compared."
   ]
  },
  {
   "cell_type": "markdown",
   "metadata": {},
   "source": [
    "**Code Listing and Tabulated Solution:** "
   ]
  },
  {
   "cell_type": "markdown",
   "metadata": {},
   "source": [
    "First we run `GELim.m` to solve the problem with the Gaussian elimination method,"
   ]
  },
  {
   "cell_type": "markdown",
   "metadata": {},
   "source": [
    "![GElim](4.png)  \n",
    "![GELim Profile](5.png) "
   ]
  },
  {
   "cell_type": "markdown",
   "metadata": {},
   "source": [
    "The Gaussian elimination method took *13 ms* to complete."
   ]
  },
  {
   "cell_type": "markdown",
   "metadata": {},
   "source": [
    "Now we take a look at the LU decomposition method given in `LUDCom.m`"
   ]
  },
  {
   "cell_type": "markdown",
   "metadata": {},
   "source": [
    "![LUD](7.png)  \n",
    "![LUD Profile](8.png) "
   ]
  },
  {
   "cell_type": "markdown",
   "metadata": {},
   "source": [
    "The LU decomposition method took *8 ms* which is slightly less than the Guassian elimination method. However, the results are a little different. We'll investigate the accuracy of these results later on."
   ]
  },
  {
   "cell_type": "markdown",
   "metadata": {},
   "source": [
    "Now let's take a look at the conjugate gradient method,"
   ]
  },
  {
   "cell_type": "markdown",
   "metadata": {},
   "source": [
    "![ConGrad](9.png) "
   ]
  },
  {
   "cell_type": "markdown",
   "metadata": {},
   "source": [
    "The results from the conjugate gradient method is vastly different that the two results from the Gaussian elimination method and the LU decomposition method. This is because the matrix is **not positive definite.** This can be verified by the negative determinants computed from equation (3.87n). For this problem, the conjugate gradient method is **not applicable.**"
   ]
  },
  {
   "cell_type": "markdown",
   "metadata": {},
   "source": [
    "Now let's solve this problem with the tried-and-true `linsolve` method from `sympy`"
   ]
  },
  {
   "cell_type": "code",
   "execution_count": 18,
   "metadata": {},
   "outputs": [
    {
     "data": {
      "text/latex": [
       "$\\displaystyle \\left[\\begin{matrix}17 & 1 & 4 & 3 & -1 & 2 & 3 & -7\\\\2 & 10 & -1 & 1 & -2 & 1 & 1 & -4\\\\-1 & 1 & -8 & 2 & -5 & 2 & -1 & 1\\\\2 & 4 & 1 & -11 & 1 & 3 & 4 & -1\\\\1 & 3 & 1 & 7 & -15 & 1 & -2 & 4\\\\-2 & 1 & 7 & -1 & 2 & 12 & -1 & 8\\\\3 & 4 & 5 & 1 & 2 & 8 & -19 & 2\\\\5 & 1 & 1 & 1 & 1 & 1 & -7 & 10\\end{matrix}\\right]$"
      ],
      "text/plain": [
       "Matrix([\n",
       "[17,  1,  4,   3,  -1,  2,   3, -7],\n",
       "[ 2, 10, -1,   1,  -2,  1,   1, -4],\n",
       "[-1,  1, -8,   2,  -5,  2,  -1,  1],\n",
       "[ 2,  4,  1, -11,   1,  3,   4, -1],\n",
       "[ 1,  3,  1,   7, -15,  1,  -2,  4],\n",
       "[-2,  1,  7,  -1,   2, 12,  -1,  8],\n",
       "[ 3,  4,  5,   1,   2,  8, -19,  2],\n",
       "[ 5,  1,  1,   1,   1,  1,  -7, 10]])"
      ]
     },
     "metadata": {},
     "output_type": "display_data"
    },
    {
     "data": {
      "text/latex": [
       "$\\displaystyle \\left[\\begin{matrix}2.94388559226063\\\\4.88613512837304\\\\-1.86786192145782\\\\9.76000776296028\\\\9.7788772205832\\\\2.90311778785879\\\\7.99679837511692\\\\3.67978846861978\\end{matrix}\\right]$"
      ],
      "text/plain": [
       "Matrix([\n",
       "[ 2.94388559226063],\n",
       "[ 4.88613512837304],\n",
       "[-1.86786192145782],\n",
       "[ 9.76000776296028],\n",
       "[  9.7788772205832],\n",
       "[ 2.90311778785879],\n",
       "[ 7.99679837511692],\n",
       "[ 3.67978846861978]])"
      ]
     },
     "execution_count": 18,
     "metadata": {},
     "output_type": "execute_result"
    }
   ],
   "source": [
    "from sympy import Matrix, linsolve, symbols\n",
    "\n",
    "x1, x2, x3, x4, x5, x6, x7, x8 = symbols(\"x1:9\")\n",
    "\n",
    "A = Matrix([\n",
    "[17, 1, 4, 3, -1, 2, 3, -7],\n",
    "[2, 10, -1, 1, -2, 1, 1, -4],\n",
    "[-1, 1, -8, 2, -5, 2, -1, 1],\n",
    "[2, 4, 1, -11, 1, 3, 4, -1],\n",
    "[1, 3, 1, 7, -15, 1, -2, 4],\n",
    "[-2, 1, 7, -1, 2, 12, -1, 8],\n",
    "[3, 4, 5, 1, 2, 8, -19, 2],\n",
    "[5, 1, 1, 1, 1, 1, -7, 10]\n",
    "])\n",
    "\n",
    "display(A)\n",
    "\n",
    "b = Matrix([\n",
    "[71],\n",
    "[43],\n",
    "[-11],\n",
    "[-37],\n",
    "[-61],\n",
    "[52],\n",
    "[-73],\n",
    "[21]\n",
    "])\n",
    "\n",
    "sol, = linsolve((A, b), x1, x2, x3, x4, x5, x6, x7, x8)\n",
    "sol = Matrix(sol)\n",
    "sol.evalf()"
   ]
  },
  {
   "cell_type": "markdown",
   "metadata": {},
   "source": [
    "It is concluded that, while being a little bit slower than the LU decomposition method, the Gaussian elimination method is more accurate for the problem."
   ]
  }
 ],
 "metadata": {
  "kernelspec": {
   "display_name": "Python 3",
   "language": "python",
   "name": "python3"
  },
  "language_info": {
   "codemirror_mode": {
    "name": "ipython",
    "version": 3
   },
   "file_extension": ".py",
   "mimetype": "text/x-python",
   "name": "python",
   "nbconvert_exporter": "python",
   "pygments_lexer": "ipython3",
   "version": "3.7.4"
  }
 },
 "nbformat": 4,
 "nbformat_minor": 4
}
