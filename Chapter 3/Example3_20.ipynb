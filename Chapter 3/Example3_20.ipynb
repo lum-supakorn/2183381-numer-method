{
 "cells": [
  {
   "cell_type": "code",
   "execution_count": 1,
   "metadata": {},
   "outputs": [],
   "source": [
    "import sympy as sym\n",
    "import numpy as np"
   ]
  },
  {
   "cell_type": "code",
   "execution_count": 4,
   "metadata": {},
   "outputs": [],
   "source": [
    "A = sym.Matrix([\n",
    "    [4, -4, 0],\n",
    "    [-4, 4, -2],\n",
    "    [0, -2, 4]\n",
    "])\n",
    "\n",
    "x1, x2, x3 = sym.symbols(\"x1 x2 x3\")\n",
    "X = sym.Matrix([x1, x2, x3])\n",
    "\n",
    "B = sym.Matrix([400, -950, 400])"
   ]
  },
  {
   "cell_type": "code",
   "execution_count": 65,
   "metadata": {},
   "outputs": [],
   "source": [
    "# Initial guess value\n",
    "X = sym.Matrix([100, 100, 100])\n",
    "R = A * X - B # Residual vector\n",
    "D = -R # Search direction vector"
   ]
  },
  {
   "cell_type": "code",
   "execution_count": 66,
   "metadata": {},
   "outputs": [
    {
     "data": {
      "text/latex": [
       "$\\displaystyle \\left[\\begin{matrix}450.0\\\\350.0\\\\275.0\\end{matrix}\\right]$"
      ],
      "text/plain": [
       "Matrix([\n",
       "[450.0],\n",
       "[350.0],\n",
       "[275.0]])"
      ]
     },
     "metadata": {},
     "output_type": "display_data"
    },
    {
     "name": "stdout",
     "output_type": "stream",
     "text": [
      "Wall time: 0 ns\n"
     ]
    }
   ],
   "source": [
    "%%time\n",
    "# Iteration starts\n",
    "while True:\n",
    "    lamb = -(sym.transpose(D) * R)[0]/(sym.transpose(D) * A * D)[0]\n",
    "    X = X + lamb*D\n",
    "    R = A * X - B\n",
    "    error = sym.sqrt((np.transpose(R) * R)[0])\n",
    "    if error == 0:\n",
    "        break\n",
    "    alpha = (sym.transpose(R) * A * D)[0] / (sym.transpose(D) * A * D)[0]\n",
    "    D = -R + (alpha * D)\n",
    "\n",
    "display(X.evalf())"
   ]
  }
 ],
 "metadata": {
  "kernelspec": {
   "display_name": "Python 3",
   "language": "python",
   "name": "python3"
  },
  "language_info": {
   "codemirror_mode": {
    "name": "ipython",
    "version": 3
   },
   "file_extension": ".py",
   "mimetype": "text/x-python",
   "name": "python",
   "nbconvert_exporter": "python",
   "pygments_lexer": "ipython3",
   "version": "3.7.4"
  }
 },
 "nbformat": 4,
 "nbformat_minor": 4
}
