{
 "cells": [
  {
   "cell_type": "markdown",
   "metadata": {},
   "source": [
    "**Numerical Methods in Science and Engineering**  \n",
    "**Chapter:** 2  \n",
    "**Exercise:** 24  \n",
    "  \n",
    "**Author:** Supakorn Suttiruang (Lum) 6031857321  \n",
    "  "
   ]
  },
  {
   "cell_type": "markdown",
   "metadata": {},
   "source": [
    "**Problem Statement:** Use the Newton-Raphson method to find the roots for the system of non-linear equations with **3** significant figures $$x^2y-xy^2+6 = 0$$ $$y^2+4x^2-3xy-7=0$$"
   ]
  },
  {
   "cell_type": "markdown",
   "metadata": {},
   "source": [
    "**Derivation of Solution:** Using the Newton-Raphson method, I was able to construct a general solution for solving a system of non-linear equations using the `sympy` and `numpy`. After setting up all the symbolic expressions, including the Jacobian matrix $J$, I solved for $\\Delta x$ and $\\Delta y$ by using a simple linear equation solver and updated $x$ and $y$ value accordingly. This process is done repeatedly until the relative percentage error is less that 5%. The roots of the above system of equations within 3 significant figures were obtained after only 6 iterations."
   ]
  },
  {
   "cell_type": "markdown",
   "metadata": {},
   "source": [
    "**Code Listing and Tabulated Solution:** "
   ]
  },
  {
   "cell_type": "code",
   "execution_count": 2,
   "metadata": {},
   "outputs": [],
   "source": [
    "import sympy as sym\n",
    "import numpy as np"
   ]
  },
  {
   "cell_type": "code",
   "execution_count": 3,
   "metadata": {},
   "outputs": [
    {
     "data": {
      "text/latex": [
       "$\\displaystyle \\left[\\begin{matrix}2 x y - y^{2} & x^{2} - 2 x y\\\\8 x - 3 y & - 3 x + 2 y\\end{matrix}\\right]$"
      ],
      "text/plain": [
       "Matrix([\n",
       "[2*x*y - y**2, x**2 - 2*x*y],\n",
       "[   8*x - 3*y,   -3*x + 2*y]])"
      ]
     },
     "execution_count": 3,
     "metadata": {},
     "output_type": "execute_result"
    }
   ],
   "source": [
    "# Symbolic Definitions\n",
    "x, y = sym.symbols(\"x y\")\n",
    "f1 = (x**2)*y - (x*(y**2)) + 6\n",
    "f2 = y**2 + 4*(x**2) - 3*x*y - 7\n",
    "\n",
    "# Initial guesses\n",
    "X_val = sym.Matrix([1, 1])\n",
    "\n",
    "# Matrices\n",
    "X = sym.Matrix([x, y])\n",
    "F = sym.Matrix([f1, f2])\n",
    "J = F.jacobian(X)"
   ]
  },
  {
   "cell_type": "code",
   "execution_count": 3,
   "metadata": {},
   "outputs": [
    {
     "name": "stdout",
     "output_type": "stream",
     "text": [
      " Iteration         x         y\n",
      "         1      3.75      9.75\n",
      "         2      5.83      5.36\n",
      "         3      3.21      2.99\n",
      "         4      2.33      2.88\n",
      "         5      2.06      2.99\n",
      "         6      2.00      3.00\n"
     ]
    }
   ],
   "source": [
    "iter_count = 0;\n",
    "\n",
    "print(\"{:>10}{:>10}{:>10}\".format(\"Iteration\", \"x\", \"y\"))\n",
    "\n",
    "while True:\n",
    "    iter_count += 1\n",
    "    sub_pair = list(zip(X, X_val))\n",
    "\n",
    "    # Solve for dX (linear part)\n",
    "    A = J.subs(sub_pair)\n",
    "    b = -F.subs(sub_pair)\n",
    "    dX, = sym.linsolve((A, b))\n",
    "    dX = sym.Matrix(dX)\n",
    "    \n",
    "    # Update x values\n",
    "    X_val += dX\n",
    "    \n",
    "    print(\"{:10}{:10.2f}{:10.2f}\".format(iter_count, X_val[0].evalf(), X_val[1].evalf()))\n",
    "\n",
    "    if (np.less(abs(np.divide(dX, X_val) * 100), 5).all()):\n",
    "        break"
   ]
  },
  {
   "cell_type": "code",
   "execution_count": 30,
   "metadata": {},
   "outputs": [
    {
     "data": {
      "text/latex": [
       "$\\displaystyle \\left[\\begin{matrix}2.00179440023402\\\\2.99952773855685\\end{matrix}\\right]$"
      ],
      "text/plain": [
       "Matrix([\n",
       "[2.00179440023402],\n",
       "[2.99952773855685]])"
      ]
     },
     "execution_count": 30,
     "metadata": {},
     "output_type": "execute_result"
    }
   ],
   "source": [
    "X_val.evalf()"
   ]
  }
 ],
 "metadata": {
  "kernelspec": {
   "display_name": "Python 3",
   "language": "python",
   "name": "python3"
  },
  "language_info": {
   "codemirror_mode": {
    "name": "ipython",
    "version": 3
   },
   "file_extension": ".py",
   "mimetype": "text/x-python",
   "name": "python",
   "nbconvert_exporter": "python",
   "pygments_lexer": "ipython3",
   "version": "3.7.4"
  }
 },
 "nbformat": 4,
 "nbformat_minor": 4
}
