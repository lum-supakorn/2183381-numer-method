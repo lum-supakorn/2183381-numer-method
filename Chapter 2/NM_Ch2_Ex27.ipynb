{
 "cells": [
  {
   "cell_type": "markdown",
   "metadata": {},
   "source": [
    "**Numerical Methods in Science and Engineering**  \n",
    "**Chapter:** 2  \n",
    "**Exercise:** 27  \n",
    "  \n",
    "**Author:** Supakorn Suttiruang (Lum) 6031857321  \n",
    "  "
   ]
  },
  {
   "cell_type": "markdown",
   "metadata": {},
   "source": [
    "**Problem Statement:** Use the Newton-Raphson method to find the roots for the system of non-linear equations, $$5x_1x_3 - 2x_1x_2 + 4x_3^2 - x_2x_4 = 9.75$$ $$6x_1 + 3x_2 + x_3 - x_4 = 5.50$$ $$2x_1^2 + x_2x_3 - 5x_3 + x_1x_4^2 = -3.50$$ $$-3x_1x_4 - 2x_2^2 + 6x_3x_4 + x_3x_4 = 16.00$$ Use the initial guess values $x_1 = x_2 = x_3 = x_4 = 1$ and perform the computation until the solutions converge to **6** significant figures of accuracy."
   ]
  },
  {
   "cell_type": "markdown",
   "metadata": {},
   "source": [
    "**Derivation of Solution:** I solved this problem in the same fashion as I did for problem 24, but the symbolic expressions are extended to handle $n=4$. The solutions converged to 6 significant figures of accuracy after only 5 iterations."
   ]
  },
  {
   "cell_type": "markdown",
   "metadata": {},
   "source": [
    "**Code Listing and Tabulated Solution:** "
   ]
  },
  {
   "cell_type": "code",
   "execution_count": 1,
   "metadata": {},
   "outputs": [],
   "source": [
    "import sympy as sym\n",
    "import numpy as np"
   ]
  },
  {
   "cell_type": "code",
   "execution_count": 9,
   "metadata": {},
   "outputs": [],
   "source": [
    "# Symbolic Definitions\n",
    "x1, x2, x3, x4 = sym.symbols(\"x1:5\")\n",
    "f1 = 5*x1*x3 - 2*x1*x2 + 4*(x3**2) - x2*x4 - 9.75\n",
    "f2 = 6*x1 + 3*x2 + x3 - x4 - 5.50\n",
    "f3 = 2*(x1**2) + x2*x3 - 5*x3 + x1*(x4**2) + 3.50\n",
    "f4 = -3*x1*x4 - 2*(x2**2) + 6*x3*x4 + x3*x4 - 16.00\n",
    "\n",
    "# Initial guesses\n",
    "X_val = sym.Matrix([1, 1, 1, 1])\n",
    "\n",
    "# Matrices\n",
    "X = sym.Matrix([x1, x2, x3, x4])\n",
    "F = sym.Matrix([f1, f2, f3, f4])\n",
    "J = F.jacobian(X)"
   ]
  },
  {
   "cell_type": "code",
   "execution_count": 3,
   "metadata": {},
   "outputs": [
    {
     "name": "stdout",
     "output_type": "stream",
     "text": [
      " Iteration        x1        x2        x3        x4\n",
      "         1   0.10202   2.08749   1.92342   3.29803\n",
      "         2   0.30099   1.39181   1.62635   2.10772\n",
      "         3   0.51328   0.97252   1.49257   1.98980\n",
      "         4   0.50003   0.99993   1.49998   1.99995\n",
      "         5   0.50000   1.00000   1.50000   2.00000\n"
     ]
    }
   ],
   "source": [
    "iter_count = 0;\n",
    "\n",
    "print(\"{:>10}{:>10}{:>10}{:>10}{:>10}\".format(\"Iteration\", \"x1\", \"x2\", \"x3\", \"x4\"))\n",
    "\n",
    "while True:\n",
    "    iter_count += 1\n",
    "    sub_pair = list(zip(X, X_val))\n",
    "\n",
    "    # Solve for dX (linear part)\n",
    "    A = J.subs(sub_pair)\n",
    "    b = -F.subs(sub_pair)\n",
    "    dX, = sym.linsolve((A, b))\n",
    "    dX = sym.Matrix(dX)\n",
    "    \n",
    "    # Update x values\n",
    "    X_val += dX\n",
    "\n",
    "    print(\"{:10}{:10.5f}{:10.5f}{:10.5f}{:10.5f}\".format(\n",
    "        iter_count,\n",
    "        X_val[0].evalf(),\n",
    "        X_val[1].evalf(),\n",
    "        X_val[2].evalf(),\n",
    "        X_val[3].evalf()\n",
    "    ))\n",
    "    \n",
    "    if (np.less(abs(np.divide(dX, X_val) * 100), 1).all()):\n",
    "        break"
   ]
  },
  {
   "cell_type": "code",
   "execution_count": 4,
   "metadata": {},
   "outputs": [
    {
     "data": {
      "text/latex": [
       "$\\displaystyle \\left[\\begin{matrix}0.499999999839644\\\\1.00000000022373\\\\1.50000000008194\\\\1.99999999979098\\end{matrix}\\right]$"
      ],
      "text/plain": [
       "Matrix([\n",
       "[0.499999999839644],\n",
       "[ 1.00000000022373],\n",
       "[ 1.50000000008194],\n",
       "[ 1.99999999979098]])"
      ]
     },
     "execution_count": 4,
     "metadata": {},
     "output_type": "execute_result"
    }
   ],
   "source": [
    "X_val"
   ]
  }
 ],
 "metadata": {
  "kernelspec": {
   "display_name": "Python 3",
   "language": "python",
   "name": "python3"
  },
  "language_info": {
   "codemirror_mode": {
    "name": "ipython",
    "version": 3
   },
   "file_extension": ".py",
   "mimetype": "text/x-python",
   "name": "python",
   "nbconvert_exporter": "python",
   "pygments_lexer": "ipython3",
   "version": "3.7.4"
  }
 },
 "nbformat": 4,
 "nbformat_minor": 4
}
