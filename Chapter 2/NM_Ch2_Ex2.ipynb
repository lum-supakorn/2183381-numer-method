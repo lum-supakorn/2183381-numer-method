{
 "cells": [
  {
   "cell_type": "markdown",
   "metadata": {},
   "source": [
    "**Numerical Methods in Science and Engineering**  \n",
    "**Chapter:** 2  \n",
    "**Exercise:** 2  \n",
    "  \n",
    "**Author:** Supakorn Suttiruang (Lum) 6031857321  \n",
    "  "
   ]
  },
  {
   "cell_type": "markdown",
   "metadata": {},
   "source": [
    "**Problem Statement:** Employ the bisection method to determine the value of $\\sqrt[\\leftroot{0}\\uproot{1}4]{13}$ by solving the equation $$x^4 - 13 = 0$$ using the initial boundary values of 1.5 and 2."
   ]
  },
  {
   "cell_type": "markdown",
   "metadata": {},
   "source": [
    "**Derivation of Solution:** Starting from the left and right values, I calculated the center point between those two values and set a comparative value $x_{old}$ to arbitrarily be the left value (can be any real number). Then the bisection iteration is performed and each new $x_M$ is compared against the old one to check for convergence. When this difference is lower than $\\epsilon$, the loop stops and the solution is obtained."
   ]
  },
  {
   "cell_type": "markdown",
   "metadata": {},
   "source": [
    "**Code Listing and Tabulated Solution:**"
   ]
  },
  {
   "cell_type": "code",
   "execution_count": 1,
   "metadata": {},
   "outputs": [],
   "source": [
    "from sympy import *"
   ]
  },
  {
   "cell_type": "code",
   "execution_count": 2,
   "metadata": {},
   "outputs": [],
   "source": [
    "x, f = symbols(\"x f\")\n",
    "f = x**4- 13\n",
    "\n",
    "xL = 1.5\n",
    "xR = 2\n",
    "xM = (xL + xR) / 2\n",
    "epsilon = 1e-6\n",
    "iter_count = 0\n",
    "x_old = xR"
   ]
  },
  {
   "cell_type": "code",
   "execution_count": 3,
   "metadata": {},
   "outputs": [
    {
     "name": "stdout",
     "output_type": "stream",
     "text": [
      "      Iteration                   f                   x\n",
      "              1           -0.640381            1.875000\n",
      "              2            1.091812            1.937500\n",
      "              3            0.204423            1.906250\n",
      "              4           -0.223215            1.890625\n",
      "              5           -0.010716            1.898438\n",
      "              6            0.096522            1.902344\n",
      "              7            0.042820            1.900391\n",
      "              8            0.016032            1.899414\n",
      "              9            0.002653            1.898926\n",
      "             10           -0.004033            1.898682\n",
      "             11           -0.000690            1.898804\n",
      "             12            0.000981            1.898865\n",
      "             13            0.000145            1.898834\n",
      "             14           -0.000273            1.898819\n",
      "             15           -0.000064            1.898827\n",
      "             16            0.000041            1.898830\n",
      "             17           -0.000011            1.898829\n",
      "             18            0.000015            1.898829\n"
     ]
    }
   ],
   "source": [
    "print(\"{:>15}{:>20}{:>20}\".format(\"Iteration\", \"f\", \"x\"))\n",
    "while abs(x_old - xM) >= epsilon:\n",
    "    if f.subs(x, xM) * f.subs(x, xR) >= 0:\n",
    "        xR = xM\n",
    "    else:\n",
    "        xL = xM\n",
    "    x_old = xM\n",
    "    xM = (xL + xR) / 2\n",
    "    iter_count += 1\n",
    "    print(\"{:15}{:20.6f}{:20.6f}\"\n",
    "          .format(iter_count, f.subs(x, xM), xM)\n",
    "    )"
   ]
  }
 ],
 "metadata": {
  "kernelspec": {
   "display_name": "Python 3",
   "language": "python",
   "name": "python3"
  },
  "language_info": {
   "codemirror_mode": {
    "name": "ipython",
    "version": 3
   },
   "file_extension": ".py",
   "mimetype": "text/x-python",
   "name": "python",
   "nbconvert_exporter": "python",
   "pygments_lexer": "ipython3",
   "version": "3.7.4"
  }
 },
 "nbformat": 4,
 "nbformat_minor": 4
}
