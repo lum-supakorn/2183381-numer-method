{
 "cells": [
  {
   "cell_type": "markdown",
   "metadata": {},
   "source": [
    "**Numerical Methods in Science and Engineering**  \n",
    "**Chapter:** 2  \n",
    "**Exercise:** 7a  \n",
    "  \n",
    "**Author:** Supakorn Suttiruang (Lum) 6031857321  \n",
    "  "
   ]
  },
  {
   "cell_type": "markdown",
   "metadata": {},
   "source": [
    "**Problem Statement:** Find the root of the following equation using the Newton-Raphson method with the initial value of 0.5. The computed solution must have their accuracy up to 4 significant figures. $$x^2 - 2x - 3 = 0$$"
   ]
  },
  {
   "cell_type": "markdown",
   "metadata": {},
   "source": [
    "**Derivation of Solution:** I begin by setting up the function of $x$ as a symbolic expression that is handled by the wonderful Python package `sympy`. In this way, I do not have to differentiate the function myself, which can be difficult if the function is more complicated. After declaring the symbols and the initial value $x_0$, I enter an infinite loop that keeps updating $x_k$ with Eq. (2.34). When the relative percentage error is below the specified value, the `if` block breaks the loop and the solution is obtained."
   ]
  },
  {
   "cell_type": "markdown",
   "metadata": {},
   "source": [
    "**Code Listing and Tabulated Solution:**"
   ]
  },
  {
   "cell_type": "code",
   "execution_count": 73,
   "metadata": {},
   "outputs": [],
   "source": [
    "from sympy import *"
   ]
  },
  {
   "cell_type": "code",
   "execution_count": 78,
   "metadata": {},
   "outputs": [],
   "source": [
    "x, f = symbols(\"x f\")\n",
    "f = x**2 - 2*x - 3\n",
    "rpe = 1 # Relative percentage error\n",
    "iter_count = 0;"
   ]
  },
  {
   "cell_type": "code",
   "execution_count": 79,
   "metadata": {},
   "outputs": [
    {
     "name": "stdout",
     "output_type": "stream",
     "text": [
      " Iteration    Root x\n",
      "         1    -3.250\n",
      "         2    -1.596\n",
      "         3    -1.068\n",
      "         4    -1.001\n",
      "         5    -1.000\n"
     ]
    }
   ],
   "source": [
    "xk = 0.5\n",
    "print(\"{:>10}{:>10}\".format(\"Iteration\", \"Root x\"))\n",
    "\n",
    "while True:\n",
    "    iter_count += 1\n",
    "    dx = -((f.subs(x, xk))/(diff(f, x).subs(x, xk)))\n",
    "    xk += dx\n",
    "    \n",
    "    print(\"{:>10}{:>10.3f}\".format(iter_count, xk))\n",
    "    \n",
    "    if (abs(dx/xk) * 100 <= rpe): # Converged\n",
    "        break"
   ]
  }
 ],
 "metadata": {
  "kernelspec": {
   "display_name": "Python 3",
   "language": "python",
   "name": "python3"
  },
  "language_info": {
   "codemirror_mode": {
    "name": "ipython",
    "version": 3
   },
   "file_extension": ".py",
   "mimetype": "text/x-python",
   "name": "python",
   "nbconvert_exporter": "python",
   "pygments_lexer": "ipython3",
   "version": "3.7.4"
  }
 },
 "nbformat": 4,
 "nbformat_minor": 4
}
