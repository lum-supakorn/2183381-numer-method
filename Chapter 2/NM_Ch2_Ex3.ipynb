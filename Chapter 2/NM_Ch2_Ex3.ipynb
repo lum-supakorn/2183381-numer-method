{
 "cells": [
  {
   "cell_type": "markdown",
   "metadata": {},
   "source": [
    "**Numerical Methods in Science and Engineering**  \n",
    "**Chapter:** 2  \n",
    "**Exercise:** 3  \n",
    "  \n",
    "**Author:** Supakorn Suttiruang (Lum) 6031857321  \n",
    "  "
   ]
  },
  {
   "cell_type": "markdown",
   "metadata": {},
   "source": [
    "**Problem Statement:** Employ the false-position method to determine the value of $\\frac{1}{43}$ by solving the following equation $$\\frac{1}{x} - 43 = 0$$ Use the initial left and right values of 0.02 and 0.03. Determine the solution by using the convergence criterion with the tolerance of 0.000001%."
   ]
  },
  {
   "cell_type": "markdown",
   "metadata": {},
   "source": [
    "**Derivation of Solution:** This problem and problem 2 are similar in that the bisection method and the false-position method differ only in how the new potential root is \"updated\". In this problem, $x_1$ is updated repeatedly from Eq. (2.17) by using the given boundary values. The iteration stops and the solution is obtained when the percentage difference between the $x_{1,old}$ and $x_1$ is lower than an acceptable tolerance."
   ]
  },
  {
   "cell_type": "markdown",
   "metadata": {},
   "source": [
    "**Code Listing and Tabulated Solution:**"
   ]
  },
  {
   "cell_type": "code",
   "execution_count": 1,
   "metadata": {},
   "outputs": [],
   "source": [
    "from sympy import *"
   ]
  },
  {
   "cell_type": "code",
   "execution_count": 46,
   "metadata": {},
   "outputs": [],
   "source": [
    "x, f = symbols(\"x f\")\n",
    "f = (1/x) - 43\n",
    "\n",
    "xL = 0.02\n",
    "xR = 0.03\n",
    "tol = 0.000001\n",
    "x_old = xL\n",
    "x1 = ((xL * f.subs(x, xR)) - (xR * f.subs(x, xL))) / (f.subs(x, xR) - f.subs(x, xL))\n",
    "iter_count = 0"
   ]
  },
  {
   "cell_type": "code",
   "execution_count": 47,
   "metadata": {},
   "outputs": [
    {
     "name": "stdout",
     "output_type": "stream",
     "text": [
      "           Iteration              Root x               Delta\n",
      "                   1   0.023388000000000   3.471865914144010\n",
      "                   2   0.023274320000000   0.488435322707608\n",
      "                   3   0.023258404800000   0.068427736712212\n",
      "                   4   0.023256176672000   0.009580800969226\n",
      "                   5   0.023255864734080   0.001341330127109\n",
      "                   6   0.023255821062771   0.000187786570442\n",
      "                   7   0.023255814948788   0.000026290126776\n",
      "                   8   0.023255814092830   0.000003680617896\n",
      "                   9   0.023255813972996   0.000000515286485\n"
     ]
    }
   ],
   "source": [
    "print(\"{:>20}{:>20}{:>20}\".format(\"Iteration\", \"Root x\", \"Delta\"))\n",
    "while ((abs((x1-x_old)/x1) * 100) > tol):\n",
    "    if f.subs(x, x1) * f.subs(x, xR) <= 0: # Case A\n",
    "        xL = x1\n",
    "    else: # Case B\n",
    "        xR = x1\n",
    "    x_old = x1\n",
    "    x1 = ((xL * f.subs(x, xR)) - (xR * f.subs(x, xL))) / (f.subs(x, xR) - f.subs(x, xL))\n",
    "    iter_count += 1\n",
    "    print(\"{:20}{:20.15f}{:20.15f}\".format(iter_count, x1, abs((x1-x_old)/x1)*100))"
   ]
  }
 ],
 "metadata": {
  "kernelspec": {
   "display_name": "Python 3",
   "language": "python",
   "name": "python3"
  },
  "language_info": {
   "codemirror_mode": {
    "name": "ipython",
    "version": 3
   },
   "file_extension": ".py",
   "mimetype": "text/x-python",
   "name": "python",
   "nbconvert_exporter": "python",
   "pygments_lexer": "ipython3",
   "version": "3.7.4"
  }
 },
 "nbformat": 4,
 "nbformat_minor": 4
}
