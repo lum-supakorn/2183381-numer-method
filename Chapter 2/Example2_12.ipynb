{
 "cells": [
  {
   "cell_type": "code",
   "execution_count": 3,
   "metadata": {},
   "outputs": [],
   "source": [
    "import sympy as sym\n",
    "import numpy as np"
   ]
  },
  {
   "cell_type": "code",
   "execution_count": 13,
   "metadata": {},
   "outputs": [],
   "source": [
    "# Symbolic Definitions\n",
    "x1, x2, x3, x4 = sym.symbols(\"x1:5\")\n",
    "f1 = x1 + 2*x2 + x3 + 4*x4 - 20.700\n",
    "f2 = x1**2 + 2*x1*x2 + x4**3 - 15.880\n",
    "f3 = x1**3 + x3**2 + x4 - 21.218\n",
    "f4 = 3*x2 + x3*x4 - 21.100\n",
    "\n",
    "# Initial guesses\n",
    "X_val = sym.Matrix([1, 1, 1, 1])\n",
    "\n",
    "# Matrices\n",
    "X = sym.Matrix([x1, x2, x3, x4])\n",
    "F = sym.Matrix([f1, f2, f3, f4])\n",
    "J = F.jacobian(X)"
   ]
  },
  {
   "cell_type": "code",
   "execution_count": 14,
   "metadata": {},
   "outputs": [
    {
     "data": {
      "text/latex": [
       "$\\displaystyle \\left[\\begin{matrix}1.20000000000027\\\\5.59999999999829\\\\4.3000000000005\\\\1.00000000000066\\end{matrix}\\right]$"
      ],
      "text/plain": [
       "Matrix([\n",
       "[1.20000000000027],\n",
       "[5.59999999999829],\n",
       "[ 4.3000000000005],\n",
       "[1.00000000000066]])"
      ]
     },
     "execution_count": 14,
     "metadata": {},
     "output_type": "execute_result"
    }
   ],
   "source": [
    "iter_count = 0\n",
    "while True:\n",
    "    iter_count += 1\n",
    "    sub_pair = list(zip(X, X_val))\n",
    "\n",
    "    # Solve for dX (linear part)\n",
    "    A = J.subs(sub_pair)\n",
    "    b = -F.subs(sub_pair)\n",
    "    dX, = sym.linsolve((A, b))\n",
    "    dX = sym.Matrix(dX)\n",
    "    \n",
    "    # Update x values\n",
    "    X_val += dX\n",
    "\n",
    "    if (np.less(abs(np.divide(dX, X_val) * 100), 0.0001).all()):\n",
    "        break\n",
    "\n",
    "X_val"
   ]
  },
  {
   "cell_type": "code",
   "execution_count": 15,
   "metadata": {},
   "outputs": [
    {
     "data": {
      "text/plain": [
       "8"
      ]
     },
     "execution_count": 15,
     "metadata": {},
     "output_type": "execute_result"
    }
   ],
   "source": [
    "iter_count"
   ]
  }
 ],
 "metadata": {
  "kernelspec": {
   "display_name": "Python 3",
   "language": "python",
   "name": "python3"
  },
  "language_info": {
   "codemirror_mode": {
    "name": "ipython",
    "version": 3
   },
   "file_extension": ".py",
   "mimetype": "text/x-python",
   "name": "python",
   "nbconvert_exporter": "python",
   "pygments_lexer": "ipython3",
   "version": "3.7.4"
  }
 },
 "nbformat": 4,
 "nbformat_minor": 4
}
