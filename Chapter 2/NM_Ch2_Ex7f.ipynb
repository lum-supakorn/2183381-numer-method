{
 "cells": [
  {
   "cell_type": "markdown",
   "metadata": {},
   "source": [
    "**Numerical Methods in Science and Engineering**  \n",
    "**Chapter:** 2  \n",
    "**Exercise:** 7f  \n",
    "  \n",
    "**Author:** Supakorn Suttiruang (Lum) 6031857321  \n",
    "  "
   ]
  },
  {
   "cell_type": "markdown",
   "metadata": {},
   "source": [
    "**Problem Statement:** Find the root of the following equation using the Newton-Raphson method with the initial value of -2.8. The computed solution must have their accuracy up to 4 significant figures. $$e^{x} - \\sin(\\pi{}x/3) = 0$$"
   ]
  },
  {
   "cell_type": "markdown",
   "metadata": {},
   "source": [
    "**Derivation of Solution:** The solution for this problem is obtained in the same manner as problem 7a. Only the equation is changed but the method remains the same."
   ]
  },
  {
   "cell_type": "markdown",
   "metadata": {},
   "source": [
    "**Code Listing and Tabulated Solution:** "
   ]
  },
  {
   "cell_type": "code",
   "execution_count": 7,
   "metadata": {},
   "outputs": [],
   "source": [
    "from sympy import *"
   ]
  },
  {
   "cell_type": "code",
   "execution_count": 8,
   "metadata": {},
   "outputs": [],
   "source": [
    "x, f = symbols(\"x f\")\n",
    "f = exp(x) - sin(pi*x/3)\n",
    "rpe = 1 # Relative percentage error\n",
    "iter_count = 0;"
   ]
  },
  {
   "cell_type": "code",
   "execution_count": 9,
   "metadata": {},
   "outputs": [
    {
     "name": "stdout",
     "output_type": "stream",
     "text": [
      " Iteration    Root x\n",
      "         1    -3.048\n",
      "         2    -3.045\n"
     ]
    }
   ],
   "source": [
    "xk = -2.8\n",
    "print(\"{:>10}{:>10}\".format(\"Iteration\", \"Root x\"))\n",
    "\n",
    "while True:\n",
    "    iter_count += 1\n",
    "    dx = (-((f.subs(x, xk))/(diff(f, x).subs(x, xk)))).evalf()\n",
    "    xk += dx\n",
    "    print(\"{:>10}{:>10.4}\".format(iter_count, xk))\n",
    "    \n",
    "    if (abs(dx/xk) * 100 <= rpe): # Converged\n",
    "        break"
   ]
  }
 ],
 "metadata": {
  "kernelspec": {
   "display_name": "Python 3",
   "language": "python",
   "name": "python3"
  },
  "language_info": {
   "codemirror_mode": {
    "name": "ipython",
    "version": 3
   },
   "file_extension": ".py",
   "mimetype": "text/x-python",
   "name": "python",
   "nbconvert_exporter": "python",
   "pygments_lexer": "ipython3",
   "version": "3.7.4"
  }
 },
 "nbformat": 4,
 "nbformat_minor": 4
}
