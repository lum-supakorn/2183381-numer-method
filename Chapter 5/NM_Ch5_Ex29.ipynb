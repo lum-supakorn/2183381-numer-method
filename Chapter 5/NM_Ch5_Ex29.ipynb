{
 "cells": [
  {
   "cell_type": "markdown",
   "metadata": {},
   "source": [
    "**Numerical Methods in Science and Engineering**  \n",
    "**Chapter:** 5  \n",
    "**Exercise:** 29  \n",
    "  \n",
    "**Author:** Supakorn Suttiruang (Lum) 6031857321  \n",
    "  "
   ]
  },
  {
   "cell_type": "markdown",
   "metadata": {},
   "source": [
    "**Problem Statement:**  \n",
    "The Nusselt number $Nu$ is found to vary with the Reynolds number $Re$ and the Prandtl number $Pr$ in the form\n",
    "$$ Nu = \\alpha Re^{\\beta} Pr^{\\gamma} r^{\\sigma} $$\n",
    "Apply the multiple regression method to determine the values of $\\alpha$, $\\beta$, $\\gamma$, and $\\delta$ for the data in the table below\n",
    "\n",
    "| Nu    | Re    | Pr    | r     |\n",
    "|-------|-------|-------|-------|\n",
    "| 277   | 49000 | 2.3   | 0.947 |\n",
    "| 348   | 68600 | 2.28  | 0.954 |\n",
    "| 421   | 84800 | 2.27  | 0.959 |\n",
    "| 223   | 34200 | 2.32  | 0.943 |\n",
    "| 177   | 22900 | 2.36  | 0.936 |\n",
    "| 114.8 | 1321  | 246   | 0.592 |\n",
    "| 95.9  | 931   | 247   | 0.583 |\n",
    "| 68.3  | 518   | 251   | 0.579 |\n",
    "| 49.1  | 346   | 273   | 0.29  |\n",
    "| 56    | 122.9 | 1518  | 0.294 |\n",
    "| 39.9  | 54    | 1590  | 0.279 |\n",
    "| 47    | 846   | 1521  | 0.267 |\n",
    "| 94.2  | 1249  | 107.4 | 0.724 |\n",
    "| 99.9  | 1021  | 186   | 0.612 |\n",
    "| 83.1  | 4650  | 414   | 0.512 |\n",
    "| 35.9  | 54.8  | 1302  | 0.273 |"
   ]
  },
  {
   "cell_type": "markdown",
   "metadata": {},
   "source": [
    "**Derivation of Solution:** (The derivation of solution is included in the section below)"
   ]
  },
  {
   "cell_type": "markdown",
   "metadata": {},
   "source": [
    "**Code Listing and Tabulated Solution:** "
   ]
  },
  {
   "cell_type": "markdown",
   "metadata": {},
   "source": [
    "Preamble:"
   ]
  },
  {
   "cell_type": "code",
   "execution_count": 2,
   "metadata": {},
   "outputs": [],
   "source": [
    "import numpy as np\n",
    "import sympy as sym\n",
    "import matplotlib.pyplot as plt\n",
    "\n",
    "plt.rcParams['figure.figsize'] = (6, 5)\n",
    "plt.rcParams['figure.dpi'] = 100\n",
    "%config InlineBackend.figure_format = 'retina'"
   ]
  },
  {
   "cell_type": "markdown",
   "metadata": {},
   "source": [
    "In this problem, $Nu$ is a function of multiple independent variables, namely, $Re$, $Pr$, and $r$."
   ]
  },
  {
   "cell_type": "markdown",
   "metadata": {},
   "source": [
    "We now set up the data table,"
   ]
  },
  {
   "cell_type": "code",
   "execution_count": 3,
   "metadata": {},
   "outputs": [],
   "source": [
    "Nu = [277, 348, 421, 223, 177, 114.8, 95.9, 68.3, 49.1, 56, 39.9, 47, 94.2, 99.9, 83.1, 35.9]\n",
    "Re = [49000, 68600, 84800, 34200, 22900, 1321, 931, 518, 346, 122.9, 54, 846, 1249, 1021, 4650, 54.8]\n",
    "Pr = [2.3, 2.28, 2.27, 2.32, 2.36, 246, 247, 251, 273, 1518, 1590, 1521, 107.4, 186, 414, 1302]\n",
    "r = [0.947, 0.954, 0.959, 0.943, 0.936, 0.592, 0.583, 0.579, 0.29, 0.294, 0.279, 0.267, 0.724, 0.612, 0.512, 0.273]"
   ]
  },
  {
   "cell_type": "markdown",
   "metadata": {},
   "source": [
    "We know that the relationship is in the form  \n",
    "$$ Nu = \\alpha Re^{\\beta} Pr^{\\gamma} r^{\\sigma} $$\n",
    "So the fitted function is in the form\n",
    "$$ Nu(Re, Pr, r) = \\alpha Re^{\\beta} Pr^{\\gamma} r^{\\sigma} $$"
   ]
  },
  {
   "cell_type": "markdown",
   "metadata": {},
   "source": [
    "Taking natural logarithm on both sides yields\n",
    "$$ log(Nu) = log(\\alpha) + \\beta log(Re) + \\gamma log(Pr) + \\sigma log(r) $$\n",
    "\n",
    "Rewrite as\n",
    "$$ y = a_0 + a_1x_1 + a_2x_2 + a_3x_3 $$\n",
    "\n",
    "where\n",
    "\n",
    "$$ y = log(Nu)$$\n",
    "$$ a_0 = log(\\alpha) $$\n",
    "$$ a_1 = \\beta $$\n",
    "$$ a_2 = \\gamma $$\n",
    "$$ a_3 = \\sigma $$\n",
    "$$ x_1 = log(Re) $$\n",
    "$$ x_2 = log(Pr) $$\n",
    "$$ x_3 = log(r) $$"
   ]
  },
  {
   "cell_type": "markdown",
   "metadata": {},
   "source": [
    "We define a symbolic function accordingly,"
   ]
  },
  {
   "cell_type": "code",
   "execution_count": 17,
   "metadata": {},
   "outputs": [
    {
     "data": {
      "text/latex": [
       "$\\displaystyle a_{0} + a_{1} x_{1} + a_{2} x_{2} + a_{3} x_{3}$"
      ],
      "text/plain": [
       "a0 + a1*x1 + a2*x2 + a3*x3"
      ]
     },
     "metadata": {},
     "output_type": "display_data"
    }
   ],
   "source": [
    "g = sym.symbols('g', type='function')\n",
    "x = sym.symbols('x1:4')\n",
    "a = sym.symbols('a:4')\n",
    "\n",
    "y_val = np.log(Nu)\n",
    "x1 = np.log(Re)\n",
    "x2 = np.log(Pr)\n",
    "x3 = np.log(r)\n",
    "\n",
    "y = a[0] + (x[0] * a[1]) + (x[1] * a[2]) + (x[2] * a[3])\n",
    "display(y)"
   ]
  },
  {
   "cell_type": "markdown",
   "metadata": {},
   "source": [
    "Now we define and minimize the total error $E$,"
   ]
  },
  {
   "cell_type": "code",
   "execution_count": 87,
   "metadata": {},
   "outputs": [],
   "source": [
    "n = len(Nu)\n",
    "\n",
    "E = sum([(y_val[i] - y.subs([(x[0], x1[i]), (x[1], x2[i]), (x[2], x3[i])])) ** 2 for i in range(n)])"
   ]
  },
  {
   "cell_type": "code",
   "execution_count": 88,
   "metadata": {},
   "outputs": [
    {
     "data": {
      "text/plain": [
       "{-19.438622681229*a0 - 114.823057711235*a1 - 123.041236617297*a2 + 19.5253238203223*a3 + 79.2516042407346,\n",
       " 142.900658013597*a0 + 905.249652626274*a1 + 849.510358379926*a2 - 123.041236617297*a3 - 604.78812100721,\n",
       " 243.858376735729*a0 + 2042.98273644167*a1 + 905.249652626274*a2 - 114.823057711235*a3 - 1186.66882831826,\n",
       " 32*a0 + 243.858376735729*a1 + 142.900658013597*a2 - 19.438622681229*a3 - 148.477376143527}"
      ]
     },
     "metadata": {},
     "output_type": "display_data"
    }
   ],
   "source": [
    "system = {\n",
    "    E.diff(a[0]),\n",
    "    E.diff(a[1]),\n",
    "    E.diff(a[2]),\n",
    "    E.diff(a[3])\n",
    "}\n",
    "display(system)"
   ]
  },
  {
   "cell_type": "code",
   "execution_count": 89,
   "metadata": {},
   "outputs": [],
   "source": [
    "from sympy.solvers.solveset import nonlinsolve\n",
    "\n",
    "soln = nonlinsolve(system, a)\n",
    "soln = next(iter(soln))\n",
    "a0, a1, a2, a3 = soln"
   ]
  },
  {
   "cell_type": "code",
   "execution_count": 90,
   "metadata": {},
   "outputs": [],
   "source": [
    "alpha = np.exp(float(a0))\n",
    "beta = a1\n",
    "gamma = a2\n",
    "sigma = a3"
   ]
  },
  {
   "cell_type": "markdown",
   "metadata": {},
   "source": [
    "The coefficients are obtained as follows"
   ]
  },
  {
   "cell_type": "code",
   "execution_count": 132,
   "metadata": {},
   "outputs": [
    {
     "name": "stdout",
     "output_type": "stream",
     "text": [
      "╒═══════════════════╤═══════════════════╤═════════════════════╤═══════════════════╕\n",
      "│ alpha             │ beta              │ gamma               │ sigma             │\n",
      "├───────────────────┼───────────────────┼─────────────────────┼───────────────────┤\n",
      "│ 59.29921291374294 │ 0.149215623460933 │ -0.0680152562606761 │ 0.454443295815760 │\n",
      "╘═══════════════════╧═══════════════════╧═════════════════════╧═══════════════════╛\n"
     ]
    }
   ],
   "source": [
    "from IPython.display import HTML, display\n",
    "import tabulate\n",
    "table = [\n",
    "    [\"alpha\", \"beta\", \"gamma\", \"sigma\"],\n",
    "    [alpha, beta, gamma, sigma]\n",
    "]\n",
    "\n",
    "print(tabulate.tabulate(table, tablefmt='fancy_grid'))"
   ]
  },
  {
   "cell_type": "code",
   "execution_count": 131,
   "metadata": {},
   "outputs": [
    {
     "name": "stdout",
     "output_type": "stream",
     "text": [
      "╒═══════════╤══════════════════╕\n",
      "│ Nu_actual │ Nu_regressed     │\n",
      "├───────────┼──────────────────┤\n",
      "│ 277       │ 273.872771188272 │\n",
      "├───────────┼──────────────────┤\n",
      "│ 348       │ 289.111197655948 │\n",
      "├───────────┼──────────────────┤\n",
      "│ 421       │ 299.202340679009 │\n",
      "├───────────┼──────────────────┤\n",
      "│ 223       │ 258.913509711134 │\n",
      "├───────────┼──────────────────┤\n",
      "│ 177       │ 242.765682839566 │\n",
      "├───────────┼──────────────────┤\n",
      "│ 114.8     │ 93.8965100420680 │\n",
      "├───────────┼──────────────────┤\n",
      "│ 95.9      │ 88.4774008052583 │\n",
      "├───────────┼──────────────────┤\n",
      "│ 68.3      │ 80.7245769224727 │\n",
      "├───────────┼──────────────────┤\n",
      "│ 49.1      │ 55.1966727955154 │\n",
      "├───────────┼──────────────────┤\n",
      "│ 56        │ 42.3508088974082 │\n",
      "├───────────┼──────────────────┤\n",
      "│ 39.9      │ 36.4639611440513 │\n",
      "├───────────┼──────────────────┤\n",
      "│ 47        │ 54.0513911778141 │\n",
      "├───────────┼──────────────────┤\n",
      "│ 94.2      │ 107.950405705898 │\n",
      "├───────────┼──────────────────┤\n",
      "│ 99.9      │ 93.4914057695866 │\n",
      "├───────────┼──────────────────┤\n",
      "│ 83.1      │ 102.370291954182 │\n",
      "├───────────┼──────────────────┤\n",
      "│ 35.9      │ 36.6799711003156 │\n",
      "╘═══════════╧══════════════════╛\n"
     ]
    }
   ],
   "source": [
    "table = [\n",
    "    [\"Nu_actual\", \"Nu_regressed\"]\n",
    "]\n",
    "\n",
    "for i in range(n):\n",
    "    table.append(\n",
    "        [Nu[i], alpha * (Re[i] ** beta) * (Pr[i] ** gamma) * (r[i] ** sigma)]\n",
    "    )\n",
    "\n",
    "print(tabulate.tabulate(table, tablefmt='fancy_grid'))"
   ]
  }
 ],
 "metadata": {
  "kernelspec": {
   "display_name": "Python 3",
   "language": "python",
   "name": "python3"
  },
  "language_info": {
   "codemirror_mode": {
    "name": "ipython",
    "version": 3
   },
   "file_extension": ".py",
   "mimetype": "text/x-python",
   "name": "python",
   "nbconvert_exporter": "python",
   "pygments_lexer": "ipython3",
   "version": "3.7.4"
  }
 },
 "nbformat": 4,
 "nbformat_minor": 4
}
