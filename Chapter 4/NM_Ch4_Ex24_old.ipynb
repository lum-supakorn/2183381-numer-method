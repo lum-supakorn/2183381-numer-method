{
 "cells": [
  {
   "cell_type": "markdown",
   "metadata": {},
   "source": [
    "**Numerical Methods in Science and Engineering**  \n",
    "**Chapter:** 4  \n",
    "**Exercise:** 24  \n",
    "  \n",
    "**Author:** Supakorn Suttiruang (Lum) 6031857321  \n",
    "  "
   ]
  },
  {
   "cell_type": "markdown",
   "metadata": {},
   "source": [
    "**Problem Statement:** \n",
    "\n",
    "Derive the cubic spline interpolation function for the air density in front of an airfoil which moves at a supersonic speed data table below:\n",
    "\n",
    "| $x$   | $\\rho$ | $x$   | $\\rho$ |\n",
    "|-------|--------|-------|--------|\n",
    "| 1.000 | 4.2    | 1.200 | 15.2   |\n",
    "| 1.020 | 4.8    | 1.204 | 18.7   |\n",
    "| 1.040 | 5.1    | 1.208 | 23.5   |\n",
    "| 1.060 | 5.2    | 1.212 | 28.9   |\n",
    "| 1.080 | 5.3    | 1.216 | 34.0   |\n",
    "| 1.100 | 5.5    | 1.220 | 38.3   |\n",
    "| 1.120 | 5.8    | 1.228 | 42.7   |\n",
    "| 1.140 | 6.1    | 1.236 | 45.3   |\n",
    "| 1.160 | 6.5    | 1.244 | 46.2   |\n",
    "| 1.180 | 7.4    | 1.250 | 46.4   |\n",
    "| 1.189 | 9.1    | 1.300 | 46.4   |\n",
    "| 1.196 | 12.9   | 1.400 | 46.4   |\n",
    "\n",
    "Provide commets if the Lagrange polynomial interpolation method is used to fit the same set of data"
   ]
  },
  {
   "cell_type": "markdown",
   "metadata": {},
   "source": [
    "**Derivation of Solution:** (The derivation of solution is included in the section below)"
   ]
  },
  {
   "cell_type": "markdown",
   "metadata": {},
   "source": [
    "**Code Listing and Solution:** \n"
   ]
  },
  {
   "cell_type": "markdown",
   "metadata": {},
   "source": [
    "Preamble:"
   ]
  },
  {
   "cell_type": "code",
   "execution_count": 2,
   "metadata": {},
   "outputs": [],
   "source": [
    "import sympy as sym"
   ]
  },
  {
   "cell_type": "markdown",
   "metadata": {},
   "source": [
    "First, we define the data table as a dictionary,"
   ]
  },
  {
   "cell_type": "code",
   "execution_count": 10,
   "metadata": {},
   "outputs": [],
   "source": [
    "f = {\n",
    "    1.000: 4.2,\n",
    "    1.020: 4.8,\n",
    "    1.040: 5.1,\n",
    "    1.060: 5.2,\n",
    "    1.080: 5.3,\n",
    "    1.100: 5.5,\n",
    "    1.120: 5.8,\n",
    "    1.140: 6.1,\n",
    "    1.160: 6.5,\n",
    "    1.180: 7.4,\n",
    "    1.189: 9.1,\n",
    "    1.196: 12.9,\n",
    "    1.200: 15.2,\n",
    "    1.204: 18.7,\n",
    "    1.208: 23.5,\n",
    "    1.212: 28.9,\n",
    "    1.216: 34.0,\n",
    "    1.220: 38.3,\n",
    "    1.228: 42.7,\n",
    "    1.236: 45.3,\n",
    "    1.244: 46.2,\n",
    "    1.250: 46.4,\n",
    "    1.300: 46.4,\n",
    "    1.400: 46.4,\n",
    "}\n",
    "\n",
    "n = len(f)"
   ]
  },
  {
   "cell_type": "markdown",
   "metadata": {},
   "source": [
    "And provide a way to access the value of the function by the position of the x-value,"
   ]
  },
  {
   "cell_type": "code",
   "execution_count": 7,
   "metadata": {},
   "outputs": [],
   "source": [
    "x_values = list(f.keys())\n",
    "\n",
    "def f_idx(f:dict, idx: int):\n",
    "    return f[x_values[idx]]"
   ]
  },
  {
   "cell_type": "markdown",
   "metadata": {},
   "source": [
    "All the cubic spline unknown coefficients are defined as follow,"
   ]
  },
  {
   "cell_type": "code",
   "execution_count": 17,
   "metadata": {},
   "outputs": [],
   "source": [
    "a = sym.symbols('a1:{}'.format(n))\n",
    "b = sym.symbols('b1:{}'.format(n))\n",
    "c = sym.symbols('c1:{}'.format(n))\n",
    "d = sym.symbols('d1:{}'.format(n))"
   ]
  },
  {
   "cell_type": "markdown",
   "metadata": {},
   "source": [
    "Now we will set up the system of equation by satisfying all the requirements (a)-(e),"
   ]
  },
  {
   "cell_type": "code",
   "execution_count": 19,
   "metadata": {},
   "outputs": [],
   "source": [
    "req_a = []\n",
    "for i in range(n-2):\n",
    "    req_a.extend([\n",
    "        # 4.43a\n",
    "        (a[i] * x_values[i+1] ** 3) +\n",
    "        (b[i] * x_values[i+1] ** 2) + \n",
    "        (c[i] * x_values[i+1]) +\n",
    "        d[i] -\n",
    "        f_idx(f, i+1)\n",
    "        ,\n",
    "        # 4.43b\n",
    "        (a[i+1] * x_values[i+1] ** 3) +\n",
    "        (b[i+1] * x_values[i+1] ** 2) + \n",
    "        (c[i+1] * x_values[i+1]) +\n",
    "        d[i+1] -\n",
    "        f_idx(f, i+1)\n",
    "    ])"
   ]
  },
  {
   "cell_type": "code",
   "execution_count": 21,
   "metadata": {},
   "outputs": [],
   "source": [
    "req_b = []\n",
    "req_b.extend([\n",
    "    # 4.44a\n",
    "    (a[0] * x_values[0] ** 3) +\n",
    "    (b[0] * x_values[0] ** 2) + \n",
    "    (c[0] * x_values[0]) +\n",
    "    d[0] -\n",
    "    f_idx(f, 0)\n",
    "    ,\n",
    "    # 4.44b\n",
    "    (a[n-2] * x_values[n-1] ** 3) +\n",
    "    (b[n-2] * x_values[n-1] ** 2) + \n",
    "    (c[n-2] * x_values[n-1]) +\n",
    "    d[n-2] -\n",
    "    f_idx(f, n-1)\n",
    "])"
   ]
  },
  {
   "cell_type": "code",
   "execution_count": 22,
   "metadata": {},
   "outputs": [],
   "source": [
    "req_c = []\n",
    "for i in range(n-2):\n",
    "    req_c.extend([\n",
    "        # 4.45b\n",
    "        (3 * a[i] * x_values[i+1] ** 2) + \n",
    "        (2 * b[i] * x_values[i+1]) +\n",
    "        c[i]\n",
    "        -\n",
    "        (\n",
    "        (3 * a[i+1] * x_values[i+1] ** 2) + \n",
    "        (2 * b[i+1] * x_values[i+1]) +\n",
    "        c[i+1]\n",
    "        )\n",
    "    ])"
   ]
  },
  {
   "cell_type": "code",
   "execution_count": 24,
   "metadata": {},
   "outputs": [],
   "source": [
    "req_d = []\n",
    "for i in range(n-2):\n",
    "    req_d.extend([\n",
    "        # 4.46b\n",
    "        (6 * a[i] * x_values[i+1]) + \n",
    "        (2 * b[i])\n",
    "        -\n",
    "        (\n",
    "        (6 * a[i+1] * x_values[i+1]) + \n",
    "        (2 * b[i+1])\n",
    "        )\n",
    "    ])"
   ]
  },
  {
   "cell_type": "code",
   "execution_count": 25,
   "metadata": {},
   "outputs": [],
   "source": [
    "req_e = []\n",
    "req_e.extend([\n",
    "    # 4.46c\n",
    "    (6 * a[0] * x_values[0]) + \n",
    "    (2 * b[0])\n",
    "    ,\n",
    "    (6 * a[n-2] * x_values[n-1]) + \n",
    "    (2 * b[n-2])\n",
    "])"
   ]
  },
  {
   "cell_type": "code",
   "execution_count": 26,
   "metadata": {},
   "outputs": [],
   "source": [
    "system = req_a + req_b + req_c + req_d + req_e"
   ]
  },
  {
   "cell_type": "markdown",
   "metadata": {},
   "source": [
    "Now we solve the system of equation,"
   ]
  },
  {
   "cell_type": "code",
   "execution_count": 27,
   "metadata": {},
   "outputs": [
    {
     "ename": "KeyboardInterrupt",
     "evalue": "",
     "output_type": "error",
     "traceback": [
      "\u001b[1;31m---------------------------------------------------------------------------\u001b[0m",
      "\u001b[1;31mKeyboardInterrupt\u001b[0m                         Traceback (most recent call last)",
      "\u001b[1;32m<ipython-input-27-89a6a5317911>\u001b[0m in \u001b[0;36m<module>\u001b[1;34m\u001b[0m\n\u001b[0;32m      1\u001b[0m \u001b[1;32mfrom\u001b[0m \u001b[0msympy\u001b[0m\u001b[1;33m.\u001b[0m\u001b[0msolvers\u001b[0m\u001b[1;33m.\u001b[0m\u001b[0msolveset\u001b[0m \u001b[1;32mimport\u001b[0m \u001b[0mnonlinsolve\u001b[0m\u001b[1;33m\u001b[0m\u001b[1;33m\u001b[0m\u001b[0m\n\u001b[0;32m      2\u001b[0m \u001b[1;33m\u001b[0m\u001b[0m\n\u001b[1;32m----> 3\u001b[1;33m \u001b[0msoln\u001b[0m \u001b[1;33m=\u001b[0m \u001b[0mnonlinsolve\u001b[0m\u001b[1;33m(\u001b[0m\u001b[0msystem\u001b[0m\u001b[1;33m,\u001b[0m \u001b[0ma\u001b[0m \u001b[1;33m+\u001b[0m \u001b[0mb\u001b[0m \u001b[1;33m+\u001b[0m \u001b[0mc\u001b[0m \u001b[1;33m+\u001b[0m \u001b[0md\u001b[0m\u001b[1;33m)\u001b[0m\u001b[1;33m\u001b[0m\u001b[1;33m\u001b[0m\u001b[0m\n\u001b[0m\u001b[0;32m      4\u001b[0m \u001b[0msoln\u001b[0m \u001b[1;33m=\u001b[0m \u001b[0mnext\u001b[0m\u001b[1;33m(\u001b[0m\u001b[0miter\u001b[0m\u001b[1;33m(\u001b[0m\u001b[0msoln\u001b[0m\u001b[1;33m)\u001b[0m\u001b[1;33m)\u001b[0m\u001b[1;33m\u001b[0m\u001b[1;33m\u001b[0m\u001b[0m\n",
      "\u001b[1;32mc:\\users\\lum\\appdata\\local\\programs\\python\\python37\\lib\\site-packages\\sympy\\solvers\\solveset.py\u001b[0m in \u001b[0;36mnonlinsolve\u001b[1;34m(system, *symbols)\u001b[0m\n\u001b[0;32m   3038\u001b[0m     \u001b[1;32mif\u001b[0m \u001b[0mlen\u001b[0m\u001b[1;33m(\u001b[0m\u001b[0msymbols\u001b[0m\u001b[1;33m)\u001b[0m \u001b[1;33m==\u001b[0m \u001b[0mlen\u001b[0m\u001b[1;33m(\u001b[0m\u001b[0mpolys\u001b[0m\u001b[1;33m)\u001b[0m\u001b[1;33m:\u001b[0m\u001b[1;33m\u001b[0m\u001b[1;33m\u001b[0m\u001b[0m\n\u001b[0;32m   3039\u001b[0m         \u001b[1;31m# If all the equations in the system are poly\u001b[0m\u001b[1;33m\u001b[0m\u001b[1;33m\u001b[0m\u001b[1;33m\u001b[0m\u001b[0m\n\u001b[1;32m-> 3040\u001b[1;33m         \u001b[1;32mif\u001b[0m \u001b[0mis_zero_dimensional\u001b[0m\u001b[1;33m(\u001b[0m\u001b[0mpolys\u001b[0m\u001b[1;33m,\u001b[0m \u001b[0msymbols\u001b[0m\u001b[1;33m)\u001b[0m\u001b[1;33m:\u001b[0m\u001b[1;33m\u001b[0m\u001b[1;33m\u001b[0m\u001b[0m\n\u001b[0m\u001b[0;32m   3041\u001b[0m             \u001b[1;31m# finite number of soln (Zero dimensional system)\u001b[0m\u001b[1;33m\u001b[0m\u001b[1;33m\u001b[0m\u001b[1;33m\u001b[0m\u001b[0m\n\u001b[0;32m   3042\u001b[0m             \u001b[1;32mtry\u001b[0m\u001b[1;33m:\u001b[0m\u001b[1;33m\u001b[0m\u001b[1;33m\u001b[0m\u001b[0m\n",
      "\u001b[1;32mc:\\users\\lum\\appdata\\local\\programs\\python\\python37\\lib\\site-packages\\sympy\\polys\\polytools.py\u001b[0m in \u001b[0;36mis_zero_dimensional\u001b[1;34m(F, *gens, **args)\u001b[0m\n\u001b[0;32m   6786\u001b[0m \u001b[1;33m\u001b[0m\u001b[0m\n\u001b[0;32m   6787\u001b[0m     \"\"\"\n\u001b[1;32m-> 6788\u001b[1;33m     \u001b[1;32mreturn\u001b[0m \u001b[0mGroebnerBasis\u001b[0m\u001b[1;33m(\u001b[0m\u001b[0mF\u001b[0m\u001b[1;33m,\u001b[0m \u001b[1;33m*\u001b[0m\u001b[0mgens\u001b[0m\u001b[1;33m,\u001b[0m \u001b[1;33m**\u001b[0m\u001b[0margs\u001b[0m\u001b[1;33m)\u001b[0m\u001b[1;33m.\u001b[0m\u001b[0mis_zero_dimensional\u001b[0m\u001b[1;33m\u001b[0m\u001b[1;33m\u001b[0m\u001b[0m\n\u001b[0m\u001b[0;32m   6789\u001b[0m \u001b[1;33m\u001b[0m\u001b[0m\n\u001b[0;32m   6790\u001b[0m \u001b[1;33m\u001b[0m\u001b[0m\n",
      "\u001b[1;32mc:\\users\\lum\\appdata\\local\\programs\\python\\python37\\lib\\site-packages\\sympy\\polys\\polytools.py\u001b[0m in \u001b[0;36m__new__\u001b[1;34m(cls, F, *gens, **args)\u001b[0m\n\u001b[0;32m   6807\u001b[0m         \u001b[0mpolys\u001b[0m \u001b[1;33m=\u001b[0m \u001b[1;33m[\u001b[0m\u001b[0mring\u001b[0m\u001b[1;33m.\u001b[0m\u001b[0mfrom_dict\u001b[0m\u001b[1;33m(\u001b[0m\u001b[0mpoly\u001b[0m\u001b[1;33m.\u001b[0m\u001b[0mrep\u001b[0m\u001b[1;33m.\u001b[0m\u001b[0mto_dict\u001b[0m\u001b[1;33m(\u001b[0m\u001b[1;33m)\u001b[0m\u001b[1;33m)\u001b[0m \u001b[1;32mfor\u001b[0m \u001b[0mpoly\u001b[0m \u001b[1;32min\u001b[0m \u001b[0mpolys\u001b[0m \u001b[1;32mif\u001b[0m \u001b[0mpoly\u001b[0m\u001b[1;33m]\u001b[0m\u001b[1;33m\u001b[0m\u001b[1;33m\u001b[0m\u001b[0m\n\u001b[0;32m   6808\u001b[0m \u001b[1;33m\u001b[0m\u001b[0m\n\u001b[1;32m-> 6809\u001b[1;33m         \u001b[0mG\u001b[0m \u001b[1;33m=\u001b[0m \u001b[0m_groebner\u001b[0m\u001b[1;33m(\u001b[0m\u001b[0mpolys\u001b[0m\u001b[1;33m,\u001b[0m \u001b[0mring\u001b[0m\u001b[1;33m,\u001b[0m \u001b[0mmethod\u001b[0m\u001b[1;33m=\u001b[0m\u001b[0mopt\u001b[0m\u001b[1;33m.\u001b[0m\u001b[0mmethod\u001b[0m\u001b[1;33m)\u001b[0m\u001b[1;33m\u001b[0m\u001b[1;33m\u001b[0m\u001b[0m\n\u001b[0m\u001b[0;32m   6810\u001b[0m         \u001b[0mG\u001b[0m \u001b[1;33m=\u001b[0m \u001b[1;33m[\u001b[0m\u001b[0mPoly\u001b[0m\u001b[1;33m.\u001b[0m\u001b[0m_from_dict\u001b[0m\u001b[1;33m(\u001b[0m\u001b[0mg\u001b[0m\u001b[1;33m,\u001b[0m \u001b[0mopt\u001b[0m\u001b[1;33m)\u001b[0m \u001b[1;32mfor\u001b[0m \u001b[0mg\u001b[0m \u001b[1;32min\u001b[0m \u001b[0mG\u001b[0m\u001b[1;33m]\u001b[0m\u001b[1;33m\u001b[0m\u001b[1;33m\u001b[0m\u001b[0m\n\u001b[0;32m   6811\u001b[0m \u001b[1;33m\u001b[0m\u001b[0m\n",
      "\u001b[1;32mc:\\users\\lum\\appdata\\local\\programs\\python\\python37\\lib\\site-packages\\sympy\\polys\\groebnertools.py\u001b[0m in \u001b[0;36mgroebner\u001b[1;34m(seq, ring, method)\u001b[0m\n\u001b[0;32m     43\u001b[0m             \u001b[0mseq\u001b[0m \u001b[1;33m=\u001b[0m \u001b[1;33m[\u001b[0m \u001b[0ms\u001b[0m\u001b[1;33m.\u001b[0m\u001b[0mset_ring\u001b[0m\u001b[1;33m(\u001b[0m\u001b[0mring\u001b[0m\u001b[1;33m)\u001b[0m \u001b[1;32mfor\u001b[0m \u001b[0ms\u001b[0m \u001b[1;32min\u001b[0m \u001b[0mseq\u001b[0m \u001b[1;33m]\u001b[0m\u001b[1;33m\u001b[0m\u001b[1;33m\u001b[0m\u001b[0m\n\u001b[0;32m     44\u001b[0m \u001b[1;33m\u001b[0m\u001b[0m\n\u001b[1;32m---> 45\u001b[1;33m     \u001b[0mG\u001b[0m \u001b[1;33m=\u001b[0m \u001b[0m_groebner\u001b[0m\u001b[1;33m(\u001b[0m\u001b[0mseq\u001b[0m\u001b[1;33m,\u001b[0m \u001b[0mring\u001b[0m\u001b[1;33m)\u001b[0m\u001b[1;33m\u001b[0m\u001b[1;33m\u001b[0m\u001b[0m\n\u001b[0m\u001b[0;32m     46\u001b[0m \u001b[1;33m\u001b[0m\u001b[0m\n\u001b[0;32m     47\u001b[0m     \u001b[1;32mif\u001b[0m \u001b[0morig\u001b[0m \u001b[1;32mis\u001b[0m \u001b[1;32mnot\u001b[0m \u001b[1;32mNone\u001b[0m\u001b[1;33m:\u001b[0m\u001b[1;33m\u001b[0m\u001b[1;33m\u001b[0m\u001b[0m\n",
      "\u001b[1;32mc:\\users\\lum\\appdata\\local\\programs\\python\\python37\\lib\\site-packages\\sympy\\polys\\groebnertools.py\u001b[0m in \u001b[0;36m_buchberger\u001b[1;34m(f, ring)\u001b[0m\n\u001b[0;32m    201\u001b[0m         \u001b[1;32mfor\u001b[0m \u001b[0mi\u001b[0m \u001b[1;32min\u001b[0m \u001b[0mrange\u001b[0m\u001b[1;33m(\u001b[0m\u001b[0mlen\u001b[0m\u001b[1;33m(\u001b[0m\u001b[0mf\u001b[0m\u001b[1;33m)\u001b[0m\u001b[1;33m)\u001b[0m\u001b[1;33m:\u001b[0m\u001b[1;33m\u001b[0m\u001b[1;33m\u001b[0m\u001b[0m\n\u001b[0;32m    202\u001b[0m             \u001b[0mp\u001b[0m \u001b[1;33m=\u001b[0m \u001b[0mf\u001b[0m\u001b[1;33m[\u001b[0m\u001b[0mi\u001b[0m\u001b[1;33m]\u001b[0m\u001b[1;33m\u001b[0m\u001b[1;33m\u001b[0m\u001b[0m\n\u001b[1;32m--> 203\u001b[1;33m             \u001b[0mr\u001b[0m \u001b[1;33m=\u001b[0m \u001b[0mp\u001b[0m\u001b[1;33m.\u001b[0m\u001b[0mrem\u001b[0m\u001b[1;33m(\u001b[0m\u001b[0mf\u001b[0m\u001b[1;33m[\u001b[0m\u001b[1;33m:\u001b[0m\u001b[0mi\u001b[0m\u001b[1;33m]\u001b[0m\u001b[1;33m)\u001b[0m\u001b[1;33m\u001b[0m\u001b[1;33m\u001b[0m\u001b[0m\n\u001b[0m\u001b[0;32m    204\u001b[0m \u001b[1;33m\u001b[0m\u001b[0m\n\u001b[0;32m    205\u001b[0m             \u001b[1;32mif\u001b[0m \u001b[0mr\u001b[0m\u001b[1;33m:\u001b[0m\u001b[1;33m\u001b[0m\u001b[1;33m\u001b[0m\u001b[0m\n",
      "\u001b[1;32mc:\\users\\lum\\appdata\\local\\programs\\python\\python37\\lib\\site-packages\\sympy\\polys\\rings.py\u001b[0m in \u001b[0;36mrem\u001b[1;34m(self, G)\u001b[0m\n\u001b[0;32m   1494\u001b[0m                     \u001b[1;32mfor\u001b[0m \u001b[0mmg\u001b[0m\u001b[1;33m,\u001b[0m \u001b[0mcg\u001b[0m \u001b[1;32min\u001b[0m \u001b[0mg\u001b[0m\u001b[1;33m.\u001b[0m\u001b[0miterterms\u001b[0m\u001b[1;33m(\u001b[0m\u001b[1;33m)\u001b[0m\u001b[1;33m:\u001b[0m\u001b[1;33m\u001b[0m\u001b[1;33m\u001b[0m\u001b[0m\n\u001b[0;32m   1495\u001b[0m                         \u001b[0mm1\u001b[0m \u001b[1;33m=\u001b[0m \u001b[0mmonomial_mul\u001b[0m\u001b[1;33m(\u001b[0m\u001b[0mmg\u001b[0m\u001b[1;33m,\u001b[0m \u001b[0mm\u001b[0m\u001b[1;33m)\u001b[0m\u001b[1;33m\u001b[0m\u001b[1;33m\u001b[0m\u001b[0m\n\u001b[1;32m-> 1496\u001b[1;33m                         \u001b[0mc1\u001b[0m \u001b[1;33m=\u001b[0m \u001b[0mget\u001b[0m\u001b[1;33m(\u001b[0m\u001b[0mm1\u001b[0m\u001b[1;33m,\u001b[0m \u001b[0mzero\u001b[0m\u001b[1;33m)\u001b[0m \u001b[1;33m-\u001b[0m \u001b[0mc\u001b[0m\u001b[1;33m*\u001b[0m\u001b[0mcg\u001b[0m\u001b[1;33m\u001b[0m\u001b[1;33m\u001b[0m\u001b[0m\n\u001b[0m\u001b[0;32m   1497\u001b[0m                         \u001b[1;32mif\u001b[0m \u001b[1;32mnot\u001b[0m \u001b[0mc1\u001b[0m\u001b[1;33m:\u001b[0m\u001b[1;33m\u001b[0m\u001b[1;33m\u001b[0m\u001b[0m\n\u001b[0;32m   1498\u001b[0m                             \u001b[1;32mdel\u001b[0m \u001b[0mf\u001b[0m\u001b[1;33m[\u001b[0m\u001b[0mm1\u001b[0m\u001b[1;33m]\u001b[0m\u001b[1;33m\u001b[0m\u001b[1;33m\u001b[0m\u001b[0m\n",
      "\u001b[1;32mc:\\users\\lum\\appdata\\local\\programs\\python\\python37\\lib\\site-packages\\mpmath\\ctx_mp_python.py\u001b[0m in \u001b[0;36m__mul__\u001b[1;34m(self, other)\u001b[0m\n",
      "\u001b[1;32mc:\\users\\lum\\appdata\\local\\programs\\python\\python37\\lib\\site-packages\\mpmath\\libmp\\libmpf.py\u001b[0m in \u001b[0;36mpython_mpf_mul\u001b[1;34m(s, t, prec, rnd)\u001b[0m\n\u001b[0;32m    888\u001b[0m     \u001b[0msign\u001b[0m \u001b[1;33m=\u001b[0m \u001b[0mssign\u001b[0m \u001b[1;33m^\u001b[0m \u001b[0mtsign\u001b[0m\u001b[1;33m\u001b[0m\u001b[1;33m\u001b[0m\u001b[0m\n\u001b[0;32m    889\u001b[0m     \u001b[0mman\u001b[0m \u001b[1;33m=\u001b[0m \u001b[0msman\u001b[0m\u001b[1;33m*\u001b[0m\u001b[0mtman\u001b[0m\u001b[1;33m\u001b[0m\u001b[1;33m\u001b[0m\u001b[0m\n\u001b[1;32m--> 890\u001b[1;33m     \u001b[1;32mif\u001b[0m \u001b[0mman\u001b[0m\u001b[1;33m:\u001b[0m\u001b[1;33m\u001b[0m\u001b[1;33m\u001b[0m\u001b[0m\n\u001b[0m\u001b[0;32m    891\u001b[0m         \u001b[0mbc\u001b[0m \u001b[1;33m=\u001b[0m \u001b[0msbc\u001b[0m \u001b[1;33m+\u001b[0m \u001b[0mtbc\u001b[0m \u001b[1;33m-\u001b[0m \u001b[1;36m1\u001b[0m\u001b[1;33m\u001b[0m\u001b[1;33m\u001b[0m\u001b[0m\n\u001b[0;32m    892\u001b[0m         \u001b[0mbc\u001b[0m \u001b[1;33m+=\u001b[0m \u001b[0mint\u001b[0m\u001b[1;33m(\u001b[0m\u001b[0mman\u001b[0m\u001b[1;33m>>\u001b[0m\u001b[0mbc\u001b[0m\u001b[1;33m)\u001b[0m\u001b[1;33m\u001b[0m\u001b[1;33m\u001b[0m\u001b[0m\n",
      "\u001b[1;31mKeyboardInterrupt\u001b[0m: "
     ]
    }
   ],
   "source": [
    "from sympy.solvers.solveset import nonlinsolve\n",
    "\n",
    "soln = nonlinsolve(system, a + b + c + d)\n",
    "soln = next(iter(soln))"
   ]
  },
  {
   "cell_type": "code",
   "execution_count": null,
   "metadata": {},
   "outputs": [],
   "source": []
  }
 ],
 "metadata": {
  "kernelspec": {
   "display_name": "Python 3",
   "language": "python",
   "name": "python3"
  },
  "language_info": {
   "codemirror_mode": {
    "name": "ipython",
    "version": 3
   },
   "file_extension": ".py",
   "mimetype": "text/x-python",
   "name": "python",
   "nbconvert_exporter": "python",
   "pygments_lexer": "ipython3",
   "version": "3.7.4"
  }
 },
 "nbformat": 4,
 "nbformat_minor": 4
}
