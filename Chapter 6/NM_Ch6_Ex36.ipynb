{
 "cells": [
  {
   "cell_type": "markdown",
   "metadata": {},
   "source": [
    "**Numerical Methods in Science and Engineering**  \n",
    "**Chapter:** 6  \n",
    "**Exercise:** 36  \n",
    "  \n",
    "**Author:** Supakorn Suttiruang (Lum) 6031857321  \n",
    "  "
   ]
  },
  {
   "cell_type": "markdown",
   "metadata": {},
   "source": [
    "**Problem Statement:** \n",
    "Modify the computer program that uses the composite trapezoidal rule to determine the double integral\n",
    "$$ \\int_{0}^{\\pi} \\int_{1}^{3} \\frac{cosx(2y^2 + sinx)}{\\sqrt{1 + y}}dxdy $$\n",
    "Use the number of segments of 5, 10, and 20 in each x- and y-direction to verify the convergence of the computed integral values."
   ]
  },
  {
   "cell_type": "markdown",
   "metadata": {},
   "source": [
    "**Derivation of Solution:** (The derivation of solution is included in the section below)"
   ]
  },
  {
   "cell_type": "markdown",
   "metadata": {},
   "source": [
    "**Code Listing and Tabulated Solution:** "
   ]
  },
  {
   "cell_type": "code",
   "execution_count": 71,
   "metadata": {},
   "outputs": [],
   "source": [
    "import numpy as np"
   ]
  },
  {
   "cell_type": "markdown",
   "metadata": {},
   "source": [
    "A modified version of the composite trapezoidal integration is modified to handle multiple integration with the expression in Equation(6.124),"
   ]
  },
  {
   "cell_type": "code",
   "execution_count": 72,
   "metadata": {},
   "outputs": [],
   "source": [
    "class CompositeTrapzMultipleIntegralProblem:\n",
    "    def __init__(self, f: callable, n: int, lim_in: tuple, lim_out: tuple):\n",
    "        self.f = f\n",
    "        self.n = n\n",
    "        self.lim_in = lim_in\n",
    "        self.lim_out = lim_out\n",
    "        \n",
    "    def integrate(self):\n",
    "        a, b = self.lim_in\n",
    "        c, d = self.lim_out\n",
    "        \n",
    "        x = np.linspace(a, b, self.n)\n",
    "        y = np.linspace(c, d, self.n)\n",
    "        \n",
    "        Wx = (b - a) / self.n\n",
    "        Wy = (d - c) / self.n\n",
    "                \n",
    "        I = 0\n",
    "        for i in range(0, self.n):\n",
    "            for j in range(0, self.n):\n",
    "                I += Wx * Wy * self.f(x[i], y[j])\n",
    "                \n",
    "        return I"
   ]
  },
  {
   "cell_type": "markdown",
   "metadata": {},
   "source": [
    "Now we define the integrand and perform numerical integration with different numbers of segment,"
   ]
  },
  {
   "cell_type": "code",
   "execution_count": 78,
   "metadata": {},
   "outputs": [],
   "source": [
    "integrand = lambda x, y: np.cos(x)*((2*y**2) + np.sin(x))/np.sqrt(1 + y)\n",
    "\n",
    "p1 = CompositeTrapzMultipleIntegralProblem(f=integrand, n=5, lim_in=(1, 3), lim_out=(0, np.pi))\n",
    "p2 = CompositeTrapzMultipleIntegralProblem(f=integrand, n=10, lim_in=(1, 3), lim_out=(0, np.pi))\n",
    "p3 = CompositeTrapzMultipleIntegralProblem(f=integrand, n=20, lim_in=(1, 3), lim_out=(0, np.pi))"
   ]
  },
  {
   "cell_type": "code",
   "execution_count": 79,
   "metadata": {},
   "outputs": [
    {
     "name": "stdout",
     "output_type": "stream",
     "text": [
      " n  | result\n",
      " 5  | -8.332569366147887\n",
      " 10 | -8.565685309033082\n",
      " 20 | -8.656657410213493\n"
     ]
    }
   ],
   "source": [
    "import tabulate\n",
    "\n",
    "table = [[\"n\", \"result\"],\n",
    "         [\"5\", p1.integrate()],\n",
    "         [\"10\", p2.integrate()],\n",
    "         [\"20\", p3.integrate()]]\n",
    "\n",
    "print(tabulate.tabulate(table, tablefmt='presto'))"
   ]
  }
 ],
 "metadata": {
  "kernelspec": {
   "display_name": "Python 3",
   "language": "python",
   "name": "python3"
  },
  "language_info": {
   "codemirror_mode": {
    "name": "ipython",
    "version": 3
   },
   "file_extension": ".py",
   "mimetype": "text/x-python",
   "name": "python",
   "nbconvert_exporter": "python",
   "pygments_lexer": "ipython3",
   "version": "3.7.4"
  }
 },
 "nbformat": 4,
 "nbformat_minor": 4
}
