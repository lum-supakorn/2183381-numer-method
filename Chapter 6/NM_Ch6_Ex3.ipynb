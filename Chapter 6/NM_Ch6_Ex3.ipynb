{
 "cells": [
  {
   "cell_type": "markdown",
   "metadata": {},
   "source": [
    "**Numerical Methods in Science and Engineering**  \n",
    "**Chapter:** 6  \n",
    "**Exercise:** 3  \n",
    "  \n",
    "**Author:** Supakorn Suttiruang (Lum) 6031857321  \n",
    "  "
   ]
  },
  {
   "cell_type": "markdown",
   "metadata": {},
   "source": [
    "**Problem Statement:** \n",
    "Determine the integral\n",
    "$$ \\int_{0}^{4} xe^{2x}dx $$\n",
    "by using the **composite trapezoidal rule** with n = 2, 4, and 8. Compare the computed values with the exact solution and determine the true percentage error."
   ]
  },
  {
   "cell_type": "markdown",
   "metadata": {},
   "source": [
    "**Derivation of Solution:** (The derivation of solution is included in the section below)"
   ]
  },
  {
   "cell_type": "markdown",
   "metadata": {},
   "source": [
    "**Code Listing and Tabulated Solution:** "
   ]
  },
  {
   "cell_type": "code",
   "execution_count": 1,
   "metadata": {},
   "outputs": [],
   "source": [
    "import numpy as np"
   ]
  },
  {
   "cell_type": "markdown",
   "metadata": {},
   "source": [
    "Here, we define a composite trapezoidal rule class which can be reused for different problems and numbers of section."
   ]
  },
  {
   "cell_type": "code",
   "execution_count": 2,
   "metadata": {},
   "outputs": [],
   "source": [
    "class CompositeTrapzRuleProblem:\n",
    "    \"\"\"Defines the composite trapezoidal rule class\"\"\"\n",
    "    def __init__(self, f: callable, lim: tuple, n: int = 2):  \n",
    "        \"\"\"\n",
    "        Keyword arguments:\n",
    "        f -- the integrand\n",
    "        lim -- integration boundary tuple (a, b)\n",
    "        n -- the number of sections (default 2)\n",
    "        \"\"\"\n",
    "        self.f = f\n",
    "        self.lim = lim\n",
    "        self.n = n\n",
    "    \n",
    "    def integrate(self):\n",
    "        \"\"\"Perform numerical integration\"\"\"\n",
    "        a, b = self.lim\n",
    "        h = (b - a) / self.n\n",
    "        x = np.arange(a, b + h, h)\n",
    "        summation_term = 2 * sum([self.f(x[i]) for i in range(1, self.n)])\n",
    "        return (h / 2) * (self.f(x[0]) + self.f(x[self.n]) + summation_term)"
   ]
  },
  {
   "cell_type": "markdown",
   "metadata": {},
   "source": [
    "Now we can start setting up the problem with different $n$,"
   ]
  },
  {
   "cell_type": "code",
   "execution_count": 3,
   "metadata": {},
   "outputs": [],
   "source": [
    "p1 = CompositeTrapzRuleProblem(f=lambda x: x * np.exp(2 * x), lim=(0, 4), n=2)\n",
    "p2 = CompositeTrapzRuleProblem(f=lambda x: x * np.exp(2 * x), lim=(0, 4), n=4)\n",
    "p3 = CompositeTrapzRuleProblem(f=lambda x: x * np.exp(2 * x), lim=(0, 4), n=8)"
   ]
  },
  {
   "cell_type": "code",
   "execution_count": 4,
   "metadata": {},
   "outputs": [
    {
     "data": {
      "text/plain": [
       "12142.22454829949"
      ]
     },
     "execution_count": 4,
     "metadata": {},
     "output_type": "execute_result"
    }
   ],
   "source": [
    "p1.integrate()"
   ]
  },
  {
   "cell_type": "code",
   "execution_count": 5,
   "metadata": {},
   "outputs": [
    {
     "data": {
      "text/plain": [
       "7288.787710726881"
      ]
     },
     "execution_count": 5,
     "metadata": {},
     "output_type": "execute_result"
    }
   ],
   "source": [
    "p2.integrate()"
   ]
  },
  {
   "cell_type": "code",
   "execution_count": 6,
   "metadata": {},
   "outputs": [
    {
     "data": {
      "text/plain": [
       "5764.762054640969"
      ]
     },
     "execution_count": 6,
     "metadata": {},
     "output_type": "execute_result"
    }
   ],
   "source": [
    "p3.integrate()"
   ]
  },
  {
   "cell_type": "markdown",
   "metadata": {},
   "source": [
    "Since the exact solution of the integration is approximately $5216.9$, the true percentage error for each $n$ is given below,"
   ]
  },
  {
   "cell_type": "code",
   "execution_count": 7,
   "metadata": {},
   "outputs": [
    {
     "name": "stdout",
     "output_type": "stream",
     "text": [
      " n | true % error\n",
      " 2 | 132.74788760182273\n",
      " 4 | 39.71492094398746\n",
      " 8 | 10.501678288657427\n"
     ]
    }
   ],
   "source": [
    "import tabulate\n",
    "\n",
    "sol = 5216.9\n",
    "\n",
    "table = [[\"n\", \"true % error\"],\n",
    "         [\"2\", 100 * (p1.integrate() - sol) / sol],\n",
    "         [\"4\", 100 * (p2.integrate() - sol) / sol],\n",
    "         [\"8\", 100 * (p3.integrate() - sol) / sol]]\n",
    "\n",
    "print(tabulate.tabulate(table, tablefmt='presto'))"
   ]
  }
 ],
 "metadata": {
  "kernelspec": {
   "display_name": "Python 3",
   "language": "python",
   "name": "python3"
  },
  "language_info": {
   "codemirror_mode": {
    "name": "ipython",
    "version": 3
   },
   "file_extension": ".py",
   "mimetype": "text/x-python",
   "name": "python",
   "nbconvert_exporter": "python",
   "pygments_lexer": "ipython3",
   "version": "3.7.4"
  }
 },
 "nbformat": 4,
 "nbformat_minor": 4
}
