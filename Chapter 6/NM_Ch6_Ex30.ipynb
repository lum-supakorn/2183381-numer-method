{
 "cells": [
  {
   "cell_type": "markdown",
   "metadata": {},
   "source": [
    "**Numerical Methods in Science and Engineering**  \n",
    "**Chapter:** 6  \n",
    "**Exercise:** 30  \n",
    "  \n",
    "**Author:** Supakorn Suttiruang (Lum) 6031857321  \n",
    "  "
   ]
  },
  {
   "cell_type": "markdown",
   "metadata": {},
   "source": [
    "**Problem Statement:** \n",
    "Apply the Gauss integration method to determine\n",
    "$$I = \\int_{0}^{5} \\frac{dx}{1 + (x + \\pi) ^ 2}$$\n",
    "by using the number of Gauss points of $n$ = 2, 3, 4, 5, and 6. Compare the computed integral values with the exact solution of\n",
    "$$I = tan^{-1}(5 + \\pi) - tan^{-1}(\\pi)$$\n",
    "Then, give comments on the possibililty that the Gauss integration method can provide an exact integral solution. If it is possible, how many Gauss points are needed?"
   ]
  },
  {
   "cell_type": "markdown",
   "metadata": {},
   "source": [
    "**Derivation of Solution:** (The derivation of solution is included in the section below)"
   ]
  },
  {
   "cell_type": "markdown",
   "metadata": {},
   "source": [
    "**Code Listing and Tabulated Solution:** "
   ]
  },
  {
   "cell_type": "code",
   "execution_count": 69,
   "metadata": {},
   "outputs": [],
   "source": [
    "import numpy as np\n",
    "import sympy as sym"
   ]
  },
  {
   "cell_type": "markdown",
   "metadata": {},
   "source": [
    "First, we will perform a coordinate transformation from x-coordinate to $\\xi$-coordinate,"
   ]
  },
  {
   "cell_type": "code",
   "execution_count": 70,
   "metadata": {},
   "outputs": [
    {
     "data": {
      "text/latex": [
       "$\\displaystyle \\frac{5 \\xi}{2} + 2.5$"
      ],
      "text/plain": [
       "5*xi/2 + 2.5"
      ]
     },
     "metadata": {},
     "output_type": "display_data"
    }
   ],
   "source": [
    "# Integration limits\n",
    "a, b = (0, 5)\n",
    "xi = sym.symbols('xi')\n",
    "x = (a + b) / 2 + (b - a) * xi / 2\n",
    "display(x)"
   ]
  },
  {
   "cell_type": "markdown",
   "metadata": {},
   "source": [
    "The integrand now becomes"
   ]
  },
  {
   "cell_type": "code",
   "execution_count": 71,
   "metadata": {},
   "outputs": [
    {
     "data": {
      "text/latex": [
       "$\\displaystyle \\frac{1}{\\left(\\frac{5 \\xi}{2} + 5.64159265358979\\right)^{2} + 1}$"
      ],
      "text/plain": [
       "1/((5*xi/2 + 5.64159265358979)**2 + 1)"
      ]
     },
     "metadata": {},
     "output_type": "display_data"
    }
   ],
   "source": [
    "integrand = 1 / (1 + (x + np.pi) ** 2)\n",
    "display(integrand)"
   ]
  },
  {
   "cell_type": "markdown",
   "metadata": {},
   "source": [
    "Next, we define the Guass-Legendre pre-computed table given in Table 6.3,"
   ]
  },
  {
   "cell_type": "code",
   "execution_count": 72,
   "metadata": {},
   "outputs": [],
   "source": [
    "xi_tab = {\n",
    "    1: [0.0000000],\n",
    "    2: [-0.5773503, 0.5773503],\n",
    "    3: [-0.7745967, 0.0000000, 0.7745967],\n",
    "    4: [-0.8611363, -0.3399810, 0.3399810, 0.8611363],\n",
    "    5: [-0.9061798, -0.5384693, 0.0000000, 0.5384693, 0.9061798],\n",
    "    6: [-0.9324695, -0.6612094, -0.2386192, 0.2386192, 0.6612094, 0.9324695]\n",
    "}\n",
    "\n",
    "w_tab = {\n",
    "    1: [2.0000000],\n",
    "    2: [1.0000000, 1.0000000],\n",
    "    3: [0.5555556, 0.8888889, 0.5555556],\n",
    "    4: [0.3478549, 0.6521452, 0.6521452, 0.3478549],\n",
    "    5: [0.2369269, 0.4786287, 0.5688889, 0.4786287, 0.2369269],\n",
    "    6: [0.1713245, 0.3607616, 0.4679139, 0.4679139, 0.3607616, 0.1713245]\n",
    "}"
   ]
  },
  {
   "cell_type": "markdown",
   "metadata": {},
   "source": [
    "Integration can now be performed,"
   ]
  },
  {
   "cell_type": "code",
   "execution_count": 81,
   "metadata": {},
   "outputs": [
    {
     "name": "stdout",
     "output_type": "stream",
     "text": [
      " n | result            | % error from exact\n",
      " 2 | 0.183059205144336 | 1.55731416225187\n",
      " 3 | 0.185769067399635 | 0.100047271730857\n",
      " 4 | 0.185945140082652 | 0.00536168733091850\n",
      " 5 | 0.185954663418684 | 0.000240378208907298\n",
      " 6 | 0.185955096039167 | 0.00000773040399909473\n"
     ]
    }
   ],
   "source": [
    "import tabulate\n",
    "\n",
    "table = [[\"n\", \"result\", \"% error from exact\"]]\n",
    "\n",
    "exact_soln = np.arctan(5 + np.pi) - np.arctan(np.pi)\n",
    "\n",
    "for n in range(2, 7):\n",
    "    I = ((b-a)/2) * sum([w[n][i] * integrand.subs(xi, xi_tab[n][i]) for i in range(n)])\n",
    "    table.append([n, I, 100 * (exact_soln - I) / exact_soln])\n",
    "\n",
    "print(tabulate.tabulate(table, tablefmt='presto'))"
   ]
  },
  {
   "cell_type": "markdown",
   "metadata": {},
   "source": [
    "It can be seen here that with $n$ = 4, the Gauss integration method can provide a solution that is only 0.005% different than the exact solution. At $n$ = 6, the result from the Gauss integration method and that from the exact solution are virtually the same."
   ]
  }
 ],
 "metadata": {
  "kernelspec": {
   "display_name": "Python 3",
   "language": "python",
   "name": "python3"
  },
  "language_info": {
   "codemirror_mode": {
    "name": "ipython",
    "version": 3
   },
   "file_extension": ".py",
   "mimetype": "text/x-python",
   "name": "python",
   "nbconvert_exporter": "python",
   "pygments_lexer": "ipython3",
   "version": "3.7.4"
  }
 },
 "nbformat": 4,
 "nbformat_minor": 4
}
